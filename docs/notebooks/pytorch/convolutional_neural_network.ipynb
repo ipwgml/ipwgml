{
 "cells": [
  {
   "cell_type": "markdown",
   "id": "1dbb6b53-f24e-43fe-b9a9-4f3614b4f96b",
   "metadata": {},
   "source": [
    "# Convolutional neural network retrieval\n",
    "\n",
    "Convolutional neural networks (CNNs) make it easy to leverage the additional structural information in the spatial retrieval input data for retrieving precipitation. This model demonstrates this using a basic UNet model.\n",
    "\n",
    "> **NOTE**: This notebook can be run on Google Colab. To install the necessary dependencies uncomment the following cell and execute it."
   ]
  },
  {
   "cell_type": "code",
   "execution_count": 1,
   "id": "e67d3ded-e9b2-41d8-a524-7af57c29020a",
   "metadata": {},
   "outputs": [],
   "source": [
    "%load_ext autoreload"
   ]
  },
  {
   "cell_type": "code",
   "execution_count": 2,
   "id": "481cd17e-0e18-4995-9601-835213f1d534",
   "metadata": {},
   "outputs": [],
   "source": [
    "#!pip install ipwgml[complete]@git+https://github.com/simonpf/ipwgml"
   ]
  },
  {
   "cell_type": "markdown",
   "id": "356017b8-fbc9-4755-9108-a85f3470fd0d",
   "metadata": {},
   "source": [
    "## The training data\n",
    "The SPR dataset comes in two input-data formats: *tabular* and *spatial*. The term *spatial* is used here to denote input data in 2D or image structure.\n",
    "The ``ipwgml.pytorch.dataset.SPRSpatial`` implements the PyTorch dataset interface for loading SPR data in spatial format."
   ]
  },
  {
   "cell_type": "markdown",
   "id": "aa8015ca-c8cd-4bfd-bc2c-2677a16edbe1",
   "metadata": {},
   "source": [
    "For the CNN-based retrieval we use the gridded geometry. Apart from that we choose retrieval input and target configuration similar to those in the fully-connected NN example."
   ]
  },
  {
   "cell_type": "code",
   "execution_count": 3,
   "id": "30887ffe-c08d-4f9c-b8ba-9cf5edb61486",
   "metadata": {},
   "outputs": [
    {
     "name": "stdout",
     "output_type": "stream",
     "text": [
      "The autoreload extension is already loaded. To reload it, use:\n",
      "  %reload_ext autoreload\n"
     ]
    }
   ],
   "source": [
    "%load_ext autoreload\n",
    "%autoreload 2\n",
    "from ipwgml.input import GMI, Ancillary, Geo, GeoIR\n",
    "from ipwgml.target import TargetConfig\n",
    "\n",
    "target_config = TargetConfig(min_rqi=0.5)\n",
    "inputs = [GMI(normalize=\"minmax\", nan=-1.5, include_angles=False)]\n",
    "#inputs = [GeoIR(normalize=\"minmax\", nan=-1.5)]\n",
    "geometry = \"gridded\""
   ]
  },
  {
   "cell_type": "markdown",
   "id": "7e12e6b9-7076-45ea-a441-e076ccb3a152",
   "metadata": {},
   "source": [
    "With these settings, we can instantiate the training data dataset. By setting ``stack=True`` we also tell the retrieval to stack all input tensors instead of loading the input data as a dictionary."
   ]
  },
  {
   "cell_type": "code",
   "execution_count": 4,
   "id": "e679abf7-6dfc-421c-9c2d-f8eac00740e7",
   "metadata": {},
   "outputs": [],
   "source": [
    "from torch.utils.data import DataLoader\n",
    "from ipwgml.pytorch.datasets import SPRSpatial\n",
    "\n",
    "batch_size = 32\n",
    "training_data = SPRSpatial(\n",
    "    reference_sensor=\"gmi\",\n",
    "    geometry=geometry,\n",
    "    split=\"training\",\n",
    "    retrieval_input=inputs,\n",
    "    target_config=target_config,\n",
    "    stack=True,\n",
    "    download=True,\n",
    ")\n",
    "training_loader = DataLoader(\n",
    "    training_data,\n",
    "    shuffle=True,\n",
    "    batch_size=batch_size,\n",
    "    num_workers=16,\n",
    "    worker_init_fn=training_data.worker_init_fn,\n",
    "    pin_memory=True\n",
    ")"
   ]
  },
  {
   "cell_type": "markdown",
   "id": "ebdef0ac-d153-407a-9131-0ae0ab6c44ed",
   "metadata": {},
   "source": [
    "With the above configuration, the training data loaded by the ``training_loader`` has the following dimensions."
   ]
  },
  {
   "cell_type": "code",
   "execution_count": 5,
   "id": "98456697-5599-4030-b565-bf336f7d9315",
   "metadata": {},
   "outputs": [
    {
     "name": "stdout",
     "output_type": "stream",
     "text": [
      "Input tensor shape:  torch.Size([32, 13, 256, 256])\n",
      "Target tensor shape:  torch.Size([32, 256, 256])\n"
     ]
    }
   ],
   "source": [
    "inpt, target = next(iter(training_loader))\n",
    "print(\"Input tensor shape: \", inpt.shape)\n",
    "print(\"Target tensor shape: \", target.shape)"
   ]
  },
  {
   "cell_type": "markdown",
   "id": "6e4f67a2-6adb-4266-af7a-01cc8b98c32e",
   "metadata": {},
   "source": [
    "For the validation, we instantiate dataset and dataloader with the same settings but choose the ``validation`` split instead of the ``training`` split."
   ]
  },
  {
   "cell_type": "code",
   "execution_count": 6,
   "id": "242adce6-abbb-44a7-a8ea-9e7034cbd42e",
   "metadata": {},
   "outputs": [],
   "source": [
    "validation_data = SPRSpatial(\n",
    "    reference_sensor=\"gmi\",\n",
    "    geometry=geometry,\n",
    "    split=\"validation\",\n",
    "    retrieval_input=inputs,\n",
    "    target_config=target_config,\n",
    "    augment=False,\n",
    "    stack=True,\n",
    "    download=True,\n",
    ")\n",
    "validation_loader = DataLoader(\n",
    "    validation_data,\n",
    "    shuffle=False,\n",
    "    batch_size=32,\n",
    "    num_workers=16,\n",
    "    worker_init_fn=validation_data.worker_init_fn\n",
    ")"
   ]
  },
  {
   "cell_type": "markdown",
   "id": "f56751b4-c6e2-4a63-806d-3c09232fa02f",
   "metadata": {},
   "source": [
    "## UNet implementation\n",
    "\n",
    "We begin by defining the convolution block that we use to build the UNet. We choose a simple ResNet block consisting of two convolutions, each followed by normalization layer and activation function and a skip connection connecting the input to the first layer with the output of the second."
   ]
  },
  {
   "cell_type": "code",
   "execution_count": 7,
   "id": "1da28596-9969-48d2-93fa-1be802a454ff",
   "metadata": {},
   "outputs": [],
   "source": [
    "from typing import Callable, List\n",
    "import torch\n",
    "from torch import nn\n",
    "\n",
    "class ResNetBlock(nn.Module):\n",
    "    \"\"\"\n",
    "    Implments a basic ResNet block consisting of two convolutions each\n",
    "    followed by a normalization and activation layer.\n",
    "    \"\"\"\n",
    "    def __init__(\n",
    "        self,\n",
    "        in_channels: int,\n",
    "        out_channels: int,\n",
    "        kernel_size: int = 3,\n",
    "        activation_fn: Callable[[], nn.Module] = nn.ReLU,\n",
    "        normalization_layer: Callable[[int], nn.Module] = nn.BatchNorm2d\n",
    "    ):\n",
    "        \"\"\"\n",
    "        Args:\n",
    "            in_channels: The number of channels in the input tensor.\n",
    "            out_channels: The number of channels within the layer and in the output tensor.\n",
    "        \"\"\"\n",
    "        super().__init__()\n",
    "        padding = kernel_size // 2\n",
    "        self.body = nn.Sequential(\n",
    "            nn.Conv2d(in_channels, out_channels, kernel_size=kernel_size, padding=padding),\n",
    "            nn.BatchNorm2d(out_channels),\n",
    "            nn.ReLU(inplace=True),\n",
    "            nn.Conv2d(out_channels, out_channels, kernel_size=kernel_size, padding=padding),\n",
    "            nn.BatchNorm2d(out_channels),\n",
    "            nn.ReLU(inplace=True),\n",
    "        )\n",
    "        self.projection = None\n",
    "        if in_channels != out_channels:\n",
    "            self.projection = nn.Conv2d(in_channels, out_channels, kernel_size=1)\n",
    "\n",
    "    def forward(self, x: torch.Tensor) -> torch.Tensor:\n",
    "        \"\"\"\n",
    "        Propagate input through block.\n",
    "        \"\"\"\n",
    "        y = self.body(x)\n",
    "        if self.projection is None:\n",
    "            shortcut = x\n",
    "        else:\n",
    "            shortcut = self.projection(x)\n",
    "        return y + shortcut\n",
    "      "
   ]
  },
  {
   "cell_type": "code",
   "execution_count": 8,
   "id": "6ea1bc40-aa0b-40e5-a0be-25eadfa051e9",
   "metadata": {},
   "outputs": [],
   "source": [
    "from typing import Dict\n",
    "\n",
    "class UNet(nn.Module):\n",
    "    \"\"\"\n",
    "    UNet encoder-decoder architecture for precipitation retrievals.\n",
    "\n",
    "    The model provides scalar estimates of the 'surface_precip' as well as probabilistic estimates of the\n",
    "    'probability_of_precip' and 'probability_of_heavy_precip'.\n",
    "\n",
    "    The model has the following components:\n",
    "        - Stem: The stem is applied directly to the input and maps the number of input features to\n",
    "              the features of the first encoder stage.\n",
    "        - Encoder: Applied to the output from the stem. Consists of multiple stages and performs 2x\n",
    "              downsampling at the beginning of each stage.\n",
    "        - Decoder: Each stage consists of bilinear upsampling followed by a convolution block\n",
    "              that merges the upsampled features with the output from the corresponding encoder\n",
    "              layer.\n",
    "        - Heads: A separate head for the retrieval outputs each consisting of a single ResNetBlock\n",
    "              followed by a fully-connected output layer.\n",
    "    \"\"\"\n",
    "    def __init__(\n",
    "        self,\n",
    "        input_features: int,\n",
    "        internal_features: List[int],\n",
    "        **block_kwargs\n",
    "    ):\n",
    "        \"\"\"\n",
    "        Args:\n",
    "            input_features: The number of input features.\n",
    "            internal_features: A list containing the number of features/channels within each stage\n",
    "                of the encoder.\n",
    "            block_kwargs: Keyword arguments to forward to ResNetBlock factory.\n",
    "        \"\"\"\n",
    "        super().__init__()\n",
    "\n",
    "        self.stem = ResNetBlock(input_features, internal_features[0])\n",
    "        chans_in = internal_features[0]\n",
    "        encoder_stages = []\n",
    "        for n_features in internal_features:\n",
    "            encoder_stages.append(nn.Sequential(\n",
    "                nn.MaxPool2d(kernel_size=2, stride=2),\n",
    "                ResNetBlock(chans_in, n_features, **block_kwargs),\n",
    "            ))\n",
    "            chans_in = n_features\n",
    "        self.encoder = nn.ModuleList(encoder_stages)\n",
    "        \n",
    "        decoder_stages = []\n",
    "        for n_features in internal_features[-2::-1]:\n",
    "            decoder_stages.append(nn.Sequential(\n",
    "                ResNetBlock(chans_in + n_features, n_features, **block_kwargs),\n",
    "            ))\n",
    "            chans_in = n_features\n",
    "        decoder_stages.append(ResNetBlock(n_features + n_features, n_features, **block_kwargs))\n",
    "            \n",
    "        self.decoder = nn.ModuleList(decoder_stages)\n",
    "        self.upsample = nn.Upsample(scale_factor=2, mode=\"bilinear\")\n",
    "        \n",
    "        heads = {}\n",
    "        for output in [\"surface_precip\", \"probability_of_precip\", \"probability_of_heavy_precip\"]:\n",
    "            heads[output] = nn.Sequential(\n",
    "                ResNetBlock(n_features, n_features, kernel_size=1, **block_kwargs),\n",
    "                nn.Conv2d(n_features, 1, kernel_size=1)\n",
    "            )\n",
    "        self.heads = nn.ModuleDict(heads)\n",
    "\n",
    "    def forward(self, x: torch.Tensor) -> Dict[str, torch.Tensor]:\n",
    "        \"\"\"\n",
    "        Propagate input through network.\n",
    "\n",
    "        Args:\n",
    "            x: The tensor containing the input data.\n",
    "\n",
    "        Return:\n",
    "            A dictionary containing mapping the keys 'surface_precip', 'probability_of_precip',\n",
    "            'probability_of_heavy_precip' to the corresponding retrieval results.\n",
    "        \"\"\"\n",
    "        y = self.stem(x)\n",
    "        shortcuts = []\n",
    "        for layer in self.encoder:\n",
    "            shortcuts.append(y)\n",
    "            y = layer(y)\n",
    "\n",
    "        shortcuts.reverse()\n",
    "        for shortcut, layer in zip(shortcuts, self.decoder):\n",
    "            y = self.upsample(y)\n",
    "            y = torch.cat([y, shortcut], dim=1)\n",
    "            y = layer(y)\n",
    "\n",
    "        return {\n",
    "            name: head(y) for name, head in self.heads.items()\n",
    "        }\n",
    "            "
   ]
  },
  {
   "cell_type": "markdown",
   "id": "1fae30ed-61be-4303-8e1c-9e738325d6fd",
   "metadata": {},
   "source": [
    "Based on the UNet model defined above, we define a lightning module to manage the training of the model.\n",
    "\n",
    "The model is trained using MSE loss for the ``surface_precipitation`` output and binary cross-entropy loss for the ``probability_of_precip`` and ``probability_of_heavy_precip`` outputs. Moreover, we use the Adam optimizer with a cosine-annealing learning rate schedule."
   ]
  },
  {
   "cell_type": "code",
   "execution_count": 9,
   "id": "0279ec64-d5ab-4afe-a9d8-bed4c8a618a8",
   "metadata": {},
   "outputs": [],
   "source": [
    "from typing import Any, Callable, Dict\n",
    "\n",
    "import torch\n",
    "from torch import optim\n",
    "from torch import nn\n",
    "from torch.nn.functional import binary_cross_entropy_with_logits\n",
    "import lightning as L\n",
    "\n",
    "OUTPUTS = [\n",
    "    \"surface_precip\",\n",
    "    \"probability_of_precipitation\",\n",
    "    \"probability_of_heavy_precipitation\"\n",
    "]\n",
    "\n",
    "class IPWGUNet(L.LightningModule):\n",
    "    \"\"\"\n",
    "    Lightning module implementing a multi-layer perceptron (MLP) for retrieving precipitation from satellite\n",
    "    observations.\n",
    "    \"\"\"\n",
    "    def __init__(\n",
    "        self,\n",
    "        input_features: int,\n",
    "        internal_features: List[int],\n",
    "        n_epochs: int = 20,\n",
    "        **block_kwargs\n",
    "    ):\n",
    "        \"\"\"\n",
    "        Args:\n",
    "            n_input_features: The number of features in the input\n",
    "            n_hidden_layers: The number of hidden layers in the MLP\n",
    "            n_neurons: The number of neurons in the hidden layers\n",
    "            activation_fn: A callable to create activation function layers.\n",
    "            normalization_layer: A callable to create normalization layers.\n",
    "            n_epochs: The numebr of epochs the model will be trained for.\n",
    "        \"\"\"\n",
    "        super().__init__()\n",
    "        self.n_epochs = n_epochs\n",
    "        self.model = UNet(input_features, internal_features)\n",
    "\n",
    "    def forward(self, retrieval_input: torch.Tensor) -> Dict[str, torch.Tensor]:\n",
    "        \"\"\"\n",
    "        Forward retrieval input through network and produce dictionary with predictions.\n",
    "\n",
    "        Args:\n",
    "            retrieval_input: The retrieval input as a single torch.Tensor.\n",
    "\n",
    "        Return:\n",
    "            A dictionary containing the predictions for 'surface_precip', 'probability_of_precipitation',\n",
    "            and 'probability_of_heavy_precipitation'.\n",
    "        \"\"\"\n",
    "        return self.model(retrieval_input)\n",
    "        \n",
    "    def training_step(self, batch, batch_idx) -> torch.Tensor:\n",
    "        \"\"\"\n",
    "        Calculates the loss-function gradients for the MLP.\n",
    "\n",
    "        The loss is calculated as the sum of the MSE for 'surface_precip' and the binary cross-entropy loss\n",
    "        for precipitation detection and heavy precipitation detection.\n",
    "\n",
    "        Args:\n",
    "            batch: A tuple containing the training data loaded from the data loader.\n",
    "            batch_idx: The index of the batch in the current epoch. Not used.\n",
    "\n",
    "        Return:\n",
    "            A scalar torch.Tensor containing the total loss.\n",
    "        \"\"\"\n",
    "        inpt, surface_precip = batch\n",
    "        pred = self(inpt)\n",
    "\n",
    "        valid = torch.isfinite(surface_precip)\n",
    "        surface_precip = surface_precip[valid]\n",
    "        precip_mask = (surface_precip > 1e-3).to(dtype=torch.float32)\n",
    "        heavy_precip_mask = (surface_precip > 10).to(dtype=torch.float32)\n",
    "        surface_precip_pred = pred[\"surface_precip\"][:, 0][valid]\n",
    "        pop = pred[\"probability_of_precip\"][:, 0][valid]\n",
    "        pohp = pred[\"probability_of_heavy_precip\"][:, 0][valid]\n",
    "        \n",
    "        # MSE loss for QPE\n",
    "        loss_estim = ((surface_precip_pred - surface_precip) ** 2).mean()\n",
    "        # BCE loss for detection targets\n",
    "        loss_detect = binary_cross_entropy_with_logits(pop, precip_mask)\n",
    "        loss_detect_heavy = binary_cross_entropy_with_logits(pohp, heavy_precip_mask)\n",
    "        tot_loss =  loss_estim + loss_detect + loss_detect_heavy\n",
    "        return tot_loss\n",
    "\n",
    "    def validation_step(self, batch, batch_idx) -> None:\n",
    "        \"\"\"\n",
    "        Calculates the loss-function values on validation data.\n",
    "\n",
    "        Args:\n",
    "            batch: A tuple containing the training data loaded from the data loader.\n",
    "            batch_idx: The index of the batch in the current epoch. Not used.\n",
    "        \"\"\"\n",
    "        inpt, surface_precip = batch\n",
    "        pred = self(inpt)\n",
    "\n",
    "        valid = torch.isfinite(surface_precip)\n",
    "        surface_precip = surface_precip[valid]\n",
    "        precip_mask = (surface_precip > 1e-3).to(dtype=torch.float32)\n",
    "        heavy_precip_mask = (surface_precip > 10).to(dtype=torch.float32)\n",
    "        surface_precip_pred = pred[\"surface_precip\"][:, 0][valid]\n",
    "        pop = pred[\"probability_of_precip\"][:, 0][valid]\n",
    "        pohp = pred[\"probability_of_heavy_precip\"][:, 0][valid]\n",
    "        \n",
    "        # MSE loss for QPE\n",
    "        loss_estim = ((surface_precip_pred - surface_precip) ** 2).mean()\n",
    "        # BCE loss for detection targets\n",
    "        loss_detect = binary_cross_entropy_with_logits(pop, precip_mask)\n",
    "        loss_detect_heavy = binary_cross_entropy_with_logits(pohp, heavy_precip_mask)\n",
    "        tot_loss =  loss_estim + loss_detect + loss_detect_heavy\n",
    "\n",
    "        opt = self.optimizers()\n",
    "        learning_rate = opt.param_groups[0]['lr']\n",
    "        \n",
    "        self.log_dict(\n",
    "            {\n",
    "                \"val_loss\": loss_estim + loss_detect + loss_detect_heavy,\n",
    "                \"val_loss_estim\": loss_estim,\n",
    "                \"val_loss_detect\": loss_detect,\n",
    "                \"val_loss_detect_heavy\": loss_detect_heavy,\n",
    "                \"learning_rate\": learning_rate\n",
    "            },\n",
    "            on_epoch=True,\n",
    "            prog_bar=True\n",
    "        )\n",
    "    \n",
    "    def configure_optimizers(self) -> Dict[str, Any]:\n",
    "        \"\"\"\n",
    "        We use the Adam optimizer with a cosine annealing learning rate schedule.\n",
    "        \"\"\"\n",
    "        optimizer = optim.Adam(self.parameters(), lr=5e-4)\n",
    "        scheduler = optim.lr_scheduler.CosineAnnealingLR(optimizer, T_max=self.n_epochs)\n",
    "        return {\n",
    "            \"optimizer\": optimizer,\n",
    "            \"lr_scheduler\": scheduler\n",
    "        }"
   ]
  },
  {
   "cell_type": "markdown",
   "id": "0bf6d261-6a8a-468d-abfc-e1e2e8da5339",
   "metadata": {},
   "source": [
    "### Running the training"
   ]
  },
  {
   "cell_type": "code",
   "execution_count": 10,
   "id": "9e42aaba-5d99-40b9-81e1-1aa0e020f6bf",
   "metadata": {},
   "outputs": [],
   "source": [
    "from ipwgml.input import calculate_input_features\n",
    "\n",
    "input_features = calculate_input_features(inputs)\n",
    "unet = IPWGUNet(input_features=input_features, internal_features=[32, 64, 128, 256, 512], n_epochs=20)"
   ]
  },
  {
   "cell_type": "code",
   "execution_count": 11,
   "id": "72ddea8b-2934-4c06-b5c9-ffabb21e2ec2",
   "metadata": {},
   "outputs": [
    {
     "data": {
      "text/plain": [
       "<All keys matched successfully>"
      ]
     },
     "execution_count": 11,
     "metadata": {},
     "output_type": "execute_result"
    }
   ],
   "source": [
    "unet.load_state_dict(torch.load(\"unet.pt\"))"
   ]
  },
  {
   "cell_type": "code",
   "execution_count": 115,
   "id": "1abe1ccb-6fac-4e41-8613-684fd7317677",
   "metadata": {},
   "outputs": [
    {
     "name": "stderr",
     "output_type": "stream",
     "text": [
      "/home/simon/miniconda3/envs/ipwgml/lib/python3.10/site-packages/lightning/fabric/connector.py:571: `precision=16` is supported for historical reasons but its usage is discouraged. Please set your precision to 16-mixed instead!\n",
      "INFO: Using 16bit Automatic Mixed Precision (AMP)\n"
     ]
    },
    {
     "data": {
      "text/html": [
       "<pre style=\"white-space:pre;overflow-x:auto;line-height:normal;font-family:Menlo,'DejaVu Sans Mono',consolas,'Courier New',monospace\"><span style=\"color: #7fbfbf; text-decoration-color: #7fbfbf\">[12/11/24 05:13:09] </span><span style=\"color: #000080; text-decoration-color: #000080\">INFO    </span> INFO:lightning.pytorch.utilities.rank_zero:Using 16bit Automatic Mixed <a href=\"file:///home/simon/miniconda3/envs/ipwgml/lib/python3.10/site-packages/lightning_utilities/core/rank_zero.py\" target=\"_blank\"><span style=\"color: #7f7f7f; text-decoration-color: #7f7f7f\">rank_zero.py</span></a><span style=\"color: #7f7f7f; text-decoration-color: #7f7f7f\">:</span><a href=\"file:///home/simon/miniconda3/envs/ipwgml/lib/python3.10/site-packages/lightning_utilities/core/rank_zero.py#63\" target=\"_blank\"><span style=\"color: #7f7f7f; text-decoration-color: #7f7f7f\">63</span></a>\n",
       "<span style=\"color: #7fbfbf; text-decoration-color: #7fbfbf\">                    </span>         Precision <span style=\"font-weight: bold\">(</span>AMP<span style=\"font-weight: bold\">)</span>                                                        <span style=\"color: #7f7f7f; text-decoration-color: #7f7f7f\">               </span>\n",
       "</pre>\n"
      ],
      "text/plain": [
       "\u001b[2;36m[12/11/24 05:13:09]\u001b[0m\u001b[2;36m \u001b[0m\u001b[34mINFO    \u001b[0m INFO:lightning.pytorch.utilities.rank_zero:Using 16bit Automatic Mixed \u001b]8;id=824886;file:///home/simon/miniconda3/envs/ipwgml/lib/python3.10/site-packages/lightning_utilities/core/rank_zero.py\u001b\\\u001b[2mrank_zero.py\u001b[0m\u001b]8;;\u001b\\\u001b[2m:\u001b[0m\u001b]8;id=703797;file:///home/simon/miniconda3/envs/ipwgml/lib/python3.10/site-packages/lightning_utilities/core/rank_zero.py#63\u001b\\\u001b[2m63\u001b[0m\u001b]8;;\u001b\\\n",
       "\u001b[2;36m                    \u001b[0m         Precision \u001b[1m(\u001b[0mAMP\u001b[1m)\u001b[0m                                                        \u001b[2m               \u001b[0m\n"
      ]
     },
     "metadata": {},
     "output_type": "display_data"
    },
    {
     "name": "stderr",
     "output_type": "stream",
     "text": [
      "INFO: GPU available: True (cuda), used: True\n"
     ]
    },
    {
     "data": {
      "text/html": [
       "<pre style=\"white-space:pre;overflow-x:auto;line-height:normal;font-family:Menlo,'DejaVu Sans Mono',consolas,'Courier New',monospace\"><span style=\"color: #7fbfbf; text-decoration-color: #7fbfbf\">                    </span><span style=\"color: #000080; text-decoration-color: #000080\">INFO    </span> INFO:lightning.pytorch.utilities.rank_zero:GPU available: <span style=\"color: #00ff00; text-decoration-color: #00ff00; font-style: italic\">True</span> <span style=\"font-weight: bold\">(</span>cuda<span style=\"font-weight: bold\">)</span>, <a href=\"file:///home/simon/miniconda3/envs/ipwgml/lib/python3.10/site-packages/lightning_utilities/core/rank_zero.py\" target=\"_blank\"><span style=\"color: #7f7f7f; text-decoration-color: #7f7f7f\">rank_zero.py</span></a><span style=\"color: #7f7f7f; text-decoration-color: #7f7f7f\">:</span><a href=\"file:///home/simon/miniconda3/envs/ipwgml/lib/python3.10/site-packages/lightning_utilities/core/rank_zero.py#63\" target=\"_blank\"><span style=\"color: #7f7f7f; text-decoration-color: #7f7f7f\">63</span></a>\n",
       "<span style=\"color: #7fbfbf; text-decoration-color: #7fbfbf\">                    </span>         used: <span style=\"color: #00ff00; text-decoration-color: #00ff00; font-style: italic\">True</span>                                                             <span style=\"color: #7f7f7f; text-decoration-color: #7f7f7f\">               </span>\n",
       "</pre>\n"
      ],
      "text/plain": [
       "\u001b[2;36m                   \u001b[0m\u001b[2;36m \u001b[0m\u001b[34mINFO    \u001b[0m INFO:lightning.pytorch.utilities.rank_zero:GPU available: \u001b[3;92mTrue\u001b[0m \u001b[1m(\u001b[0mcuda\u001b[1m)\u001b[0m, \u001b]8;id=499519;file:///home/simon/miniconda3/envs/ipwgml/lib/python3.10/site-packages/lightning_utilities/core/rank_zero.py\u001b\\\u001b[2mrank_zero.py\u001b[0m\u001b]8;;\u001b\\\u001b[2m:\u001b[0m\u001b]8;id=354875;file:///home/simon/miniconda3/envs/ipwgml/lib/python3.10/site-packages/lightning_utilities/core/rank_zero.py#63\u001b\\\u001b[2m63\u001b[0m\u001b]8;;\u001b\\\n",
       "\u001b[2;36m                    \u001b[0m         used: \u001b[3;92mTrue\u001b[0m                                                             \u001b[2m               \u001b[0m\n"
      ]
     },
     "metadata": {},
     "output_type": "display_data"
    },
    {
     "name": "stderr",
     "output_type": "stream",
     "text": [
      "INFO: TPU available: False, using: 0 TPU cores\n"
     ]
    },
    {
     "data": {
      "text/html": [
       "<pre style=\"white-space:pre;overflow-x:auto;line-height:normal;font-family:Menlo,'DejaVu Sans Mono',consolas,'Courier New',monospace\"><span style=\"color: #7fbfbf; text-decoration-color: #7fbfbf\">                    </span><span style=\"color: #000080; text-decoration-color: #000080\">INFO    </span> INFO:lightning.pytorch.utilities.rank_zero:TPU available: <span style=\"color: #ff0000; text-decoration-color: #ff0000; font-style: italic\">False</span>,       <a href=\"file:///home/simon/miniconda3/envs/ipwgml/lib/python3.10/site-packages/lightning_utilities/core/rank_zero.py\" target=\"_blank\"><span style=\"color: #7f7f7f; text-decoration-color: #7f7f7f\">rank_zero.py</span></a><span style=\"color: #7f7f7f; text-decoration-color: #7f7f7f\">:</span><a href=\"file:///home/simon/miniconda3/envs/ipwgml/lib/python3.10/site-packages/lightning_utilities/core/rank_zero.py#63\" target=\"_blank\"><span style=\"color: #7f7f7f; text-decoration-color: #7f7f7f\">63</span></a>\n",
       "<span style=\"color: #7fbfbf; text-decoration-color: #7fbfbf\">                    </span>         using: <span style=\"color: #008080; text-decoration-color: #008080; font-weight: bold\">0</span> TPU cores                                                     <span style=\"color: #7f7f7f; text-decoration-color: #7f7f7f\">               </span>\n",
       "</pre>\n"
      ],
      "text/plain": [
       "\u001b[2;36m                   \u001b[0m\u001b[2;36m \u001b[0m\u001b[34mINFO    \u001b[0m INFO:lightning.pytorch.utilities.rank_zero:TPU available: \u001b[3;91mFalse\u001b[0m,       \u001b]8;id=32725;file:///home/simon/miniconda3/envs/ipwgml/lib/python3.10/site-packages/lightning_utilities/core/rank_zero.py\u001b\\\u001b[2mrank_zero.py\u001b[0m\u001b]8;;\u001b\\\u001b[2m:\u001b[0m\u001b]8;id=211885;file:///home/simon/miniconda3/envs/ipwgml/lib/python3.10/site-packages/lightning_utilities/core/rank_zero.py#63\u001b\\\u001b[2m63\u001b[0m\u001b]8;;\u001b\\\n",
       "\u001b[2;36m                    \u001b[0m         using: \u001b[1;36m0\u001b[0m TPU cores                                                     \u001b[2m               \u001b[0m\n"
      ]
     },
     "metadata": {},
     "output_type": "display_data"
    },
    {
     "name": "stderr",
     "output_type": "stream",
     "text": [
      "INFO: HPU available: False, using: 0 HPUs\n"
     ]
    },
    {
     "data": {
      "text/html": [
       "<pre style=\"white-space:pre;overflow-x:auto;line-height:normal;font-family:Menlo,'DejaVu Sans Mono',consolas,'Courier New',monospace\"><span style=\"color: #7fbfbf; text-decoration-color: #7fbfbf\">                    </span><span style=\"color: #000080; text-decoration-color: #000080\">INFO    </span> INFO:lightning.pytorch.utilities.rank_zero:HPU available: <span style=\"color: #ff0000; text-decoration-color: #ff0000; font-style: italic\">False</span>,       <a href=\"file:///home/simon/miniconda3/envs/ipwgml/lib/python3.10/site-packages/lightning_utilities/core/rank_zero.py\" target=\"_blank\"><span style=\"color: #7f7f7f; text-decoration-color: #7f7f7f\">rank_zero.py</span></a><span style=\"color: #7f7f7f; text-decoration-color: #7f7f7f\">:</span><a href=\"file:///home/simon/miniconda3/envs/ipwgml/lib/python3.10/site-packages/lightning_utilities/core/rank_zero.py#63\" target=\"_blank\"><span style=\"color: #7f7f7f; text-decoration-color: #7f7f7f\">63</span></a>\n",
       "<span style=\"color: #7fbfbf; text-decoration-color: #7fbfbf\">                    </span>         using: <span style=\"color: #008080; text-decoration-color: #008080; font-weight: bold\">0</span> HPUs                                                          <span style=\"color: #7f7f7f; text-decoration-color: #7f7f7f\">               </span>\n",
       "</pre>\n"
      ],
      "text/plain": [
       "\u001b[2;36m                   \u001b[0m\u001b[2;36m \u001b[0m\u001b[34mINFO    \u001b[0m INFO:lightning.pytorch.utilities.rank_zero:HPU available: \u001b[3;91mFalse\u001b[0m,       \u001b]8;id=340297;file:///home/simon/miniconda3/envs/ipwgml/lib/python3.10/site-packages/lightning_utilities/core/rank_zero.py\u001b\\\u001b[2mrank_zero.py\u001b[0m\u001b]8;;\u001b\\\u001b[2m:\u001b[0m\u001b]8;id=364895;file:///home/simon/miniconda3/envs/ipwgml/lib/python3.10/site-packages/lightning_utilities/core/rank_zero.py#63\u001b\\\u001b[2m63\u001b[0m\u001b]8;;\u001b\\\n",
       "\u001b[2;36m                    \u001b[0m         using: \u001b[1;36m0\u001b[0m HPUs                                                          \u001b[2m               \u001b[0m\n"
      ]
     },
     "metadata": {},
     "output_type": "display_data"
    },
    {
     "name": "stderr",
     "output_type": "stream",
     "text": [
      "INFO: LOCAL_RANK: 0 - CUDA_VISIBLE_DEVICES: [0]\n"
     ]
    },
    {
     "data": {
      "text/html": [
       "<pre style=\"white-space:pre;overflow-x:auto;line-height:normal;font-family:Menlo,'DejaVu Sans Mono',consolas,'Courier New',monospace\"><span style=\"color: #7fbfbf; text-decoration-color: #7fbfbf\">                    </span><span style=\"color: #000080; text-decoration-color: #000080\">INFO    </span> INFO:lightning.pytorch.accelerators.cuda:LOCAL_RANK: <span style=\"color: #008080; text-decoration-color: #008080; font-weight: bold\">0</span> -                    <a href=\"file:///home/simon/miniconda3/envs/ipwgml/lib/python3.10/site-packages/lightning/pytorch/accelerators/cuda.py\" target=\"_blank\"><span style=\"color: #7f7f7f; text-decoration-color: #7f7f7f\">cuda.py</span></a><span style=\"color: #7f7f7f; text-decoration-color: #7f7f7f\">:</span><a href=\"file:///home/simon/miniconda3/envs/ipwgml/lib/python3.10/site-packages/lightning/pytorch/accelerators/cuda.py#61\" target=\"_blank\"><span style=\"color: #7f7f7f; text-decoration-color: #7f7f7f\">61</span></a>\n",
       "<span style=\"color: #7fbfbf; text-decoration-color: #7fbfbf\">                    </span>         CUDA_VISIBLE_DEVICES: <span style=\"font-weight: bold\">[</span><span style=\"color: #008080; text-decoration-color: #008080; font-weight: bold\">0</span><span style=\"font-weight: bold\">]</span>                                                   <span style=\"color: #7f7f7f; text-decoration-color: #7f7f7f\">          </span>\n",
       "</pre>\n"
      ],
      "text/plain": [
       "\u001b[2;36m                   \u001b[0m\u001b[2;36m \u001b[0m\u001b[34mINFO    \u001b[0m INFO:lightning.pytorch.accelerators.cuda:LOCAL_RANK: \u001b[1;36m0\u001b[0m -                    \u001b]8;id=744446;file:///home/simon/miniconda3/envs/ipwgml/lib/python3.10/site-packages/lightning/pytorch/accelerators/cuda.py\u001b\\\u001b[2mcuda.py\u001b[0m\u001b]8;;\u001b\\\u001b[2m:\u001b[0m\u001b]8;id=426289;file:///home/simon/miniconda3/envs/ipwgml/lib/python3.10/site-packages/lightning/pytorch/accelerators/cuda.py#61\u001b\\\u001b[2m61\u001b[0m\u001b]8;;\u001b\\\n",
       "\u001b[2;36m                    \u001b[0m         CUDA_VISIBLE_DEVICES: \u001b[1m[\u001b[0m\u001b[1;36m0\u001b[0m\u001b[1m]\u001b[0m                                                   \u001b[2m          \u001b[0m\n"
      ]
     },
     "metadata": {},
     "output_type": "display_data"
    },
    {
     "name": "stderr",
     "output_type": "stream",
     "text": [
      "INFO: \n",
      "  | Name  | Type | Params | Mode \n",
      "---------------------------------------\n",
      "0 | model | UNet | 8.3 M  | train\n",
      "---------------------------------------\n",
      "8.3 M     Trainable params\n",
      "0         Non-trainable params\n",
      "8.3 M     Total params\n",
      "33.395    Total estimated model params size (MB)\n"
     ]
    },
    {
     "data": {
      "text/html": [
       "<pre style=\"white-space:pre;overflow-x:auto;line-height:normal;font-family:Menlo,'DejaVu Sans Mono',consolas,'Courier New',monospace\"><span style=\"color: #7fbfbf; text-decoration-color: #7fbfbf\">                    </span><span style=\"color: #000080; text-decoration-color: #000080\">INFO    </span> INFO:lightning.pytorch.callbacks.model_summary:                    <a href=\"file:///home/simon/miniconda3/envs/ipwgml/lib/python3.10/site-packages/lightning/pytorch/callbacks/model_summary.py\" target=\"_blank\"><span style=\"color: #7f7f7f; text-decoration-color: #7f7f7f\">model_summary.py</span></a><span style=\"color: #7f7f7f; text-decoration-color: #7f7f7f\">:</span><a href=\"file:///home/simon/miniconda3/envs/ipwgml/lib/python3.10/site-packages/lightning/pytorch/callbacks/model_summary.py#94\" target=\"_blank\"><span style=\"color: #7f7f7f; text-decoration-color: #7f7f7f\">94</span></a>\n",
       "<span style=\"color: #7fbfbf; text-decoration-color: #7fbfbf\">                    </span>           | Name  | Type | Params | Mode                                   <span style=\"color: #7f7f7f; text-decoration-color: #7f7f7f\">                   </span>\n",
       "<span style=\"color: #7fbfbf; text-decoration-color: #7fbfbf\">                    </span>         ---------------------------------------                            <span style=\"color: #7f7f7f; text-decoration-color: #7f7f7f\">                   </span>\n",
       "<span style=\"color: #7fbfbf; text-decoration-color: #7fbfbf\">                    </span>         <span style=\"color: #008080; text-decoration-color: #008080; font-weight: bold\">0</span> | model | UNet | <span style=\"color: #008080; text-decoration-color: #008080; font-weight: bold\">8.3</span> M  | train                                  <span style=\"color: #7f7f7f; text-decoration-color: #7f7f7f\">                   </span>\n",
       "<span style=\"color: #7fbfbf; text-decoration-color: #7fbfbf\">                    </span>         ---------------------------------------                            <span style=\"color: #7f7f7f; text-decoration-color: #7f7f7f\">                   </span>\n",
       "<span style=\"color: #7fbfbf; text-decoration-color: #7fbfbf\">                    </span>         <span style=\"color: #008080; text-decoration-color: #008080; font-weight: bold\">8.3</span> M     Trainable params                                         <span style=\"color: #7f7f7f; text-decoration-color: #7f7f7f\">                   </span>\n",
       "<span style=\"color: #7fbfbf; text-decoration-color: #7fbfbf\">                    </span>         <span style=\"color: #008080; text-decoration-color: #008080; font-weight: bold\">0</span>         Non-trainable params                                     <span style=\"color: #7f7f7f; text-decoration-color: #7f7f7f\">                   </span>\n",
       "<span style=\"color: #7fbfbf; text-decoration-color: #7fbfbf\">                    </span>         <span style=\"color: #008080; text-decoration-color: #008080; font-weight: bold\">8.3</span> M     Total params                                             <span style=\"color: #7f7f7f; text-decoration-color: #7f7f7f\">                   </span>\n",
       "<span style=\"color: #7fbfbf; text-decoration-color: #7fbfbf\">                    </span>         <span style=\"color: #008080; text-decoration-color: #008080; font-weight: bold\">33.395</span>    Total estimated model params size <span style=\"font-weight: bold\">(</span>MB<span style=\"font-weight: bold\">)</span>                   <span style=\"color: #7f7f7f; text-decoration-color: #7f7f7f\">                   </span>\n",
       "</pre>\n"
      ],
      "text/plain": [
       "\u001b[2;36m                   \u001b[0m\u001b[2;36m \u001b[0m\u001b[34mINFO    \u001b[0m INFO:lightning.pytorch.callbacks.model_summary:                    \u001b]8;id=694165;file:///home/simon/miniconda3/envs/ipwgml/lib/python3.10/site-packages/lightning/pytorch/callbacks/model_summary.py\u001b\\\u001b[2mmodel_summary.py\u001b[0m\u001b]8;;\u001b\\\u001b[2m:\u001b[0m\u001b]8;id=397125;file:///home/simon/miniconda3/envs/ipwgml/lib/python3.10/site-packages/lightning/pytorch/callbacks/model_summary.py#94\u001b\\\u001b[2m94\u001b[0m\u001b]8;;\u001b\\\n",
       "\u001b[2;36m                    \u001b[0m           | Name  | Type | Params | Mode                                   \u001b[2m                   \u001b[0m\n",
       "\u001b[2;36m                    \u001b[0m         ---------------------------------------                            \u001b[2m                   \u001b[0m\n",
       "\u001b[2;36m                    \u001b[0m         \u001b[1;36m0\u001b[0m | model | UNet | \u001b[1;36m8.3\u001b[0m M  | train                                  \u001b[2m                   \u001b[0m\n",
       "\u001b[2;36m                    \u001b[0m         ---------------------------------------                            \u001b[2m                   \u001b[0m\n",
       "\u001b[2;36m                    \u001b[0m         \u001b[1;36m8.3\u001b[0m M     Trainable params                                         \u001b[2m                   \u001b[0m\n",
       "\u001b[2;36m                    \u001b[0m         \u001b[1;36m0\u001b[0m         Non-trainable params                                     \u001b[2m                   \u001b[0m\n",
       "\u001b[2;36m                    \u001b[0m         \u001b[1;36m8.3\u001b[0m M     Total params                                             \u001b[2m                   \u001b[0m\n",
       "\u001b[2;36m                    \u001b[0m         \u001b[1;36m33.395\u001b[0m    Total estimated model params size \u001b[1m(\u001b[0mMB\u001b[1m)\u001b[0m                   \u001b[2m                   \u001b[0m\n"
      ]
     },
     "metadata": {},
     "output_type": "display_data"
    },
    {
     "data": {
      "application/vnd.jupyter.widget-view+json": {
       "model_id": "",
       "version_major": 2,
       "version_minor": 0
      },
      "text/plain": [
       "Sanity Checking: |                                                      | 0/? [00:00<?, ?it/s]"
      ]
     },
     "metadata": {},
     "output_type": "display_data"
    },
    {
     "data": {
      "application/vnd.jupyter.widget-view+json": {
       "model_id": "978631bbe051444bb2a5a47e368c46ac",
       "version_major": 2,
       "version_minor": 0
      },
      "text/plain": [
       "Training: |                                                             | 0/? [00:00<?, ?it/s]"
      ]
     },
     "metadata": {},
     "output_type": "display_data"
    },
    {
     "data": {
      "application/vnd.jupyter.widget-view+json": {
       "model_id": "",
       "version_major": 2,
       "version_minor": 0
      },
      "text/plain": [
       "Validation: |                                                           | 0/? [00:00<?, ?it/s]"
      ]
     },
     "metadata": {},
     "output_type": "display_data"
    },
    {
     "data": {
      "application/vnd.jupyter.widget-view+json": {
       "model_id": "",
       "version_major": 2,
       "version_minor": 0
      },
      "text/plain": [
       "Validation: |                                                           | 0/? [00:00<?, ?it/s]"
      ]
     },
     "metadata": {},
     "output_type": "display_data"
    },
    {
     "data": {
      "application/vnd.jupyter.widget-view+json": {
       "model_id": "",
       "version_major": 2,
       "version_minor": 0
      },
      "text/plain": [
       "Validation: |                                                           | 0/? [00:00<?, ?it/s]"
      ]
     },
     "metadata": {},
     "output_type": "display_data"
    },
    {
     "data": {
      "application/vnd.jupyter.widget-view+json": {
       "model_id": "",
       "version_major": 2,
       "version_minor": 0
      },
      "text/plain": [
       "Validation: |                                                           | 0/? [00:00<?, ?it/s]"
      ]
     },
     "metadata": {},
     "output_type": "display_data"
    },
    {
     "data": {
      "application/vnd.jupyter.widget-view+json": {
       "model_id": "",
       "version_major": 2,
       "version_minor": 0
      },
      "text/plain": [
       "Validation: |                                                           | 0/? [00:00<?, ?it/s]"
      ]
     },
     "metadata": {},
     "output_type": "display_data"
    },
    {
     "data": {
      "application/vnd.jupyter.widget-view+json": {
       "model_id": "",
       "version_major": 2,
       "version_minor": 0
      },
      "text/plain": [
       "Validation: |                                                           | 0/? [00:00<?, ?it/s]"
      ]
     },
     "metadata": {},
     "output_type": "display_data"
    },
    {
     "data": {
      "application/vnd.jupyter.widget-view+json": {
       "model_id": "",
       "version_major": 2,
       "version_minor": 0
      },
      "text/plain": [
       "Validation: |                                                           | 0/? [00:00<?, ?it/s]"
      ]
     },
     "metadata": {},
     "output_type": "display_data"
    },
    {
     "data": {
      "application/vnd.jupyter.widget-view+json": {
       "model_id": "",
       "version_major": 2,
       "version_minor": 0
      },
      "text/plain": [
       "Validation: |                                                           | 0/? [00:00<?, ?it/s]"
      ]
     },
     "metadata": {},
     "output_type": "display_data"
    },
    {
     "data": {
      "application/vnd.jupyter.widget-view+json": {
       "model_id": "",
       "version_major": 2,
       "version_minor": 0
      },
      "text/plain": [
       "Validation: |                                                           | 0/? [00:00<?, ?it/s]"
      ]
     },
     "metadata": {},
     "output_type": "display_data"
    },
    {
     "data": {
      "application/vnd.jupyter.widget-view+json": {
       "model_id": "",
       "version_major": 2,
       "version_minor": 0
      },
      "text/plain": [
       "Validation: |                                                           | 0/? [00:00<?, ?it/s]"
      ]
     },
     "metadata": {},
     "output_type": "display_data"
    },
    {
     "data": {
      "application/vnd.jupyter.widget-view+json": {
       "model_id": "",
       "version_major": 2,
       "version_minor": 0
      },
      "text/plain": [
       "Validation: |                                                           | 0/? [00:00<?, ?it/s]"
      ]
     },
     "metadata": {},
     "output_type": "display_data"
    },
    {
     "data": {
      "application/vnd.jupyter.widget-view+json": {
       "model_id": "",
       "version_major": 2,
       "version_minor": 0
      },
      "text/plain": [
       "Validation: |                                                           | 0/? [00:00<?, ?it/s]"
      ]
     },
     "metadata": {},
     "output_type": "display_data"
    },
    {
     "data": {
      "application/vnd.jupyter.widget-view+json": {
       "model_id": "",
       "version_major": 2,
       "version_minor": 0
      },
      "text/plain": [
       "Validation: |                                                           | 0/? [00:00<?, ?it/s]"
      ]
     },
     "metadata": {},
     "output_type": "display_data"
    },
    {
     "data": {
      "application/vnd.jupyter.widget-view+json": {
       "model_id": "",
       "version_major": 2,
       "version_minor": 0
      },
      "text/plain": [
       "Validation: |                                                           | 0/? [00:00<?, ?it/s]"
      ]
     },
     "metadata": {},
     "output_type": "display_data"
    },
    {
     "data": {
      "application/vnd.jupyter.widget-view+json": {
       "model_id": "",
       "version_major": 2,
       "version_minor": 0
      },
      "text/plain": [
       "Validation: |                                                           | 0/? [00:00<?, ?it/s]"
      ]
     },
     "metadata": {},
     "output_type": "display_data"
    },
    {
     "data": {
      "application/vnd.jupyter.widget-view+json": {
       "model_id": "",
       "version_major": 2,
       "version_minor": 0
      },
      "text/plain": [
       "Validation: |                                                           | 0/? [00:00<?, ?it/s]"
      ]
     },
     "metadata": {},
     "output_type": "display_data"
    },
    {
     "data": {
      "application/vnd.jupyter.widget-view+json": {
       "model_id": "",
       "version_major": 2,
       "version_minor": 0
      },
      "text/plain": [
       "Validation: |                                                           | 0/? [00:00<?, ?it/s]"
      ]
     },
     "metadata": {},
     "output_type": "display_data"
    },
    {
     "data": {
      "application/vnd.jupyter.widget-view+json": {
       "model_id": "",
       "version_major": 2,
       "version_minor": 0
      },
      "text/plain": [
       "Validation: |                                                           | 0/? [00:00<?, ?it/s]"
      ]
     },
     "metadata": {},
     "output_type": "display_data"
    },
    {
     "data": {
      "application/vnd.jupyter.widget-view+json": {
       "model_id": "",
       "version_major": 2,
       "version_minor": 0
      },
      "text/plain": [
       "Validation: |                                                           | 0/? [00:00<?, ?it/s]"
      ]
     },
     "metadata": {},
     "output_type": "display_data"
    },
    {
     "data": {
      "application/vnd.jupyter.widget-view+json": {
       "model_id": "",
       "version_major": 2,
       "version_minor": 0
      },
      "text/plain": [
       "Validation: |                                                           | 0/? [00:00<?, ?it/s]"
      ]
     },
     "metadata": {},
     "output_type": "display_data"
    },
    {
     "name": "stderr",
     "output_type": "stream",
     "text": [
      "INFO: `Trainer.fit` stopped: `max_epochs=20` reached.\n"
     ]
    },
    {
     "data": {
      "text/html": [
       "<pre style=\"white-space:pre;overflow-x:auto;line-height:normal;font-family:Menlo,'DejaVu Sans Mono',consolas,'Courier New',monospace\"><span style=\"color: #7fbfbf; text-decoration-color: #7fbfbf\">[12/11/24 05:43:54] </span><span style=\"color: #000080; text-decoration-color: #000080\">INFO    </span> INFO:lightning.pytorch.utilities.rank_zero:`Trainer.fit` stopped:      <a href=\"file:///home/simon/miniconda3/envs/ipwgml/lib/python3.10/site-packages/lightning_utilities/core/rank_zero.py\" target=\"_blank\"><span style=\"color: #7f7f7f; text-decoration-color: #7f7f7f\">rank_zero.py</span></a><span style=\"color: #7f7f7f; text-decoration-color: #7f7f7f\">:</span><a href=\"file:///home/simon/miniconda3/envs/ipwgml/lib/python3.10/site-packages/lightning_utilities/core/rank_zero.py#63\" target=\"_blank\"><span style=\"color: #7f7f7f; text-decoration-color: #7f7f7f\">63</span></a>\n",
       "<span style=\"color: #7fbfbf; text-decoration-color: #7fbfbf\">                    </span>         `<span style=\"color: #808000; text-decoration-color: #808000\">max_epochs</span>=<span style=\"color: #008080; text-decoration-color: #008080; font-weight: bold\">20</span>` reached.                                               <span style=\"color: #7f7f7f; text-decoration-color: #7f7f7f\">               </span>\n",
       "</pre>\n"
      ],
      "text/plain": [
       "\u001b[2;36m[12/11/24 05:43:54]\u001b[0m\u001b[2;36m \u001b[0m\u001b[34mINFO    \u001b[0m INFO:lightning.pytorch.utilities.rank_zero:`Trainer.fit` stopped:      \u001b]8;id=314557;file:///home/simon/miniconda3/envs/ipwgml/lib/python3.10/site-packages/lightning_utilities/core/rank_zero.py\u001b\\\u001b[2mrank_zero.py\u001b[0m\u001b]8;;\u001b\\\u001b[2m:\u001b[0m\u001b]8;id=520696;file:///home/simon/miniconda3/envs/ipwgml/lib/python3.10/site-packages/lightning_utilities/core/rank_zero.py#63\u001b\\\u001b[2m63\u001b[0m\u001b]8;;\u001b\\\n",
       "\u001b[2;36m                    \u001b[0m         `\u001b[33mmax_epochs\u001b[0m=\u001b[1;36m20\u001b[0m` reached.                                               \u001b[2m               \u001b[0m\n"
      ]
     },
     "metadata": {},
     "output_type": "display_data"
    }
   ],
   "source": [
    "trainer = L.Trainer(\n",
    "    max_epochs=unet.n_epochs,\n",
    "    precision=16\n",
    ")\n",
    "trainer.fit(\n",
    "    model=unet,\n",
    "    train_dataloaders=training_loader,\n",
    "    val_dataloaders=validation_loader\n",
    ")"
   ]
  },
  {
   "cell_type": "markdown",
   "id": "31360065-cb8a-421e-bd58-4d61f4a01683",
   "metadata": {},
   "source": [
    "### Evaluating the retrieval\n",
    "\n",
    "To evaluate the retrieval using the ``ipwgml.evaluation.Evaluator`` class, we need to define a retrieval callback function that performes inferences on the retrieval input data provided by the evaluator. The ``ipwgml.pytorch`` module provides the ``PytorchRetrieval`` helper class that wraps around a trained PyTorch neural network and acts as a ``retrieval_fn`` that can be passed to the evaluator."
   ]
  },
  {
   "cell_type": "code",
   "execution_count": 12,
   "id": "25aa411a-d918-4afc-8ea8-83288a5de428",
   "metadata": {},
   "outputs": [],
   "source": [
    "from ipwgml.pytorch import PytorchRetrieval\n",
    "unet_retrieval = PytorchRetrieval(\n",
    "    unet,\n",
    "    retrieval_input=inputs,\n",
    "    stack=True,\n",
    "    device=torch.device(\"cuda\"),\n",
    "    dtype=torch.float32\n",
    ")"
   ]
  },
  {
   "cell_type": "code",
   "execution_count": 65,
   "id": "c33ff035-fff2-4d35-ba80-bb1c04997aee",
   "metadata": {},
   "outputs": [],
   "source": [
    "from ipwgml.target import TargetConfig\n",
    "from ipwgml.evaluation import Evaluator\n",
    "evaluator = Evaluator(\n",
    "    domain=\"conus\",\n",
    "    reference_sensor=\"gmi\",\n",
    "    geometry=geometry,\n",
    "    retrieval_input=inputs,\n",
    "    target_config=TargetConfig(min_rqi=0.5),\n",
    "    download=True\n",
    ")"
   ]
  },
  {
   "cell_type": "markdown",
   "id": "88f1aae8-02fc-4b3a-ac1d-c8399a20fe0b",
   "metadata": {},
   "source": [
    "## Case study\n",
    "\n",
    "To ensure that the results returned by the UNet-based retrieval, we use the evaluator's ``plot_retrieval_results`` function to display the results for scene 86. Passing the argument ``tile_size=256`` ensures that the evaluator tiles the input data into tiles of size 256x256 pixels. If not explicitly specified, the overlap between neighboring tiles defaults to $\\frac{1}{4}$ of that, i.e., 64.\n",
    "\n",
    "Since the retrieval is based on GMI observations, it will only produce reliable results where GMI observations are available. However, where this is the case the retrieval shows good agreement with the ground-based measurements."
   ]
  },
  {
   "cell_type": "code",
   "execution_count": 14,
   "id": "ac5c89ac-c72d-4b97-b432-d2f2aba2e89d",
   "metadata": {},
   "outputs": [],
   "source": [
    "import xarray as xr\n",
    "data = xr.load_dataset(\n",
    "    \"/home/simon/data/ipwgml/spr/gmi/evaluation/japan/gridded/target/target_20170701124016.nc\",\n",
    "    engine=\"h5netcdf\"\n",
    ")\n",
    "\n"
   ]
  },
  {
   "cell_type": "code",
   "execution_count": 66,
   "id": "5feae355-2243-44c6-8567-876669e99d9b",
   "metadata": {},
   "outputs": [
    {
     "data": {
      "image/png": "[encoded data removed]",
      "text/plain": [
       "<Figure size 1200x600 with 4 Axes>"
      ]
     },
     "metadata": {},
     "output_type": "display_data"
    }
   ],
   "source": [
    "fig = evaluator.plot_retrieval_results(\n",
    "    24,\n",
    "    unet_retrieval,\n",
    "    input_data_format=\"spatial\",\n",
    "    tile_size=256,\n",
    "    batch_size=16,\n",
    "    swath_boundaries=True\n",
    ")"
   ]
  },
  {
   "cell_type": "markdown",
   "id": "1d7b3281-e29d-41b3-ab06-4a0640a7d3da",
   "metadata": {},
   "source": [
    "## Running the evaluation "
   ]
  },
  {
   "cell_type": "code",
   "execution_count": 67,
   "id": "feecab9b-0041-4d77-9f5b-fe6c9a55969f",
   "metadata": {},
   "outputs": [
    {
     "data": {
      "application/vnd.jupyter.widget-view+json": {
       "model_id": "ab63051eaacf42ba81289eedb9b009f3",
       "version_major": 2,
       "version_minor": 0
      },
      "text/plain": [
       "Output()"
      ]
     },
     "metadata": {},
     "output_type": "display_data"
    },
    {
     "data": {
      "text/html": [
       "<pre style=\"white-space:pre;overflow-x:auto;line-height:normal;font-family:Menlo,'DejaVu Sans Mono',consolas,'Courier New',monospace\"></pre>\n"
      ],
      "text/plain": []
     },
     "metadata": {},
     "output_type": "display_data"
    },
    {
     "data": {
      "text/html": [
       "<pre style=\"white-space:pre;overflow-x:auto;line-height:normal;font-family:Menlo,'DejaVu Sans Mono',consolas,'Courier New',monospace\">\n",
       "</pre>\n"
      ],
      "text/plain": [
       "\n"
      ]
     },
     "metadata": {},
     "output_type": "display_data"
    }
   ],
   "source": [
    "evaluator.evaluate(\n",
    "    retrieval_fn=unet_retrieval,\n",
    "    input_data_format=\"spatial\",\n",
    "    batch_size=32,\n",
    "    tile_size=256,\n",
    "    overlap=64,\n",
    ")"
   ]
  },
  {
   "cell_type": "markdown",
   "id": "73db7940-3e8e-4123-9c5d-05389b1ef093",
   "metadata": {},
   "source": [
    "## Results"
   ]
  },
  {
   "cell_type": "markdown",
   "id": "31b3facb-35b6-4bc4-b1a7-3a4bdbd1bc00",
   "metadata": {},
   "source": [
    "### Precipitation estimation"
   ]
  },
  {
   "cell_type": "code",
   "execution_count": 61,
   "id": "4d50cef6-9f72-467d-bf0b-26de57a54441",
   "metadata": {},
   "outputs": [
    {
     "data": {
      "text/html": [
       "<div>\n",
       "<style scoped>\n",
       "    .dataframe tbody tr th:only-of-type {\n",
       "        vertical-align: middle;\n",
       "    }\n",
       "\n",
       "    .dataframe tbody tr th {\n",
       "        vertical-align: top;\n",
       "    }\n",
       "\n",
       "    .dataframe thead th {\n",
       "        text-align: right;\n",
       "    }\n",
       "</style>\n",
       "<table border=\"1\" class=\"dataframe\">\n",
       "  <thead>\n",
       "    <tr style=\"text-align: right;\">\n",
       "      <th></th>\n",
       "      <th>Bias [$\\%$]</th>\n",
       "      <th>MAE [$mm h^{-1}$]</th>\n",
       "      <th>MSE [$(mm h^{-1})^2$]</th>\n",
       "      <th>SMAPE$_{0.1}$ [$\\%$]</th>\n",
       "      <th>Correlation coeff. []</th>\n",
       "      <th>Effective resolution [$^\\circ$]</th>\n",
       "    </tr>\n",
       "  </thead>\n",
       "  <tbody>\n",
       "    <tr>\n",
       "      <th>unet (cpcir)</th>\n",
       "      <td>-21.034330</td>\n",
       "      <td>0.087399</td>\n",
       "      <td>0.187331</td>\n",
       "      <td>70.490332</td>\n",
       "      <td>0.924699</td>\n",
       "      <td>inf</td>\n",
       "    </tr>\n",
       "    <tr>\n",
       "      <th>IMERG Final V7 (GMI)</th>\n",
       "      <td>-7.398772</td>\n",
       "      <td>0.124924</td>\n",
       "      <td>1.731411</td>\n",
       "      <td>114.417614</td>\n",
       "      <td>0.455411</td>\n",
       "      <td>inf</td>\n",
       "    </tr>\n",
       "    <tr>\n",
       "      <th>GPROF V7 (GMI)</th>\n",
       "      <td>5.799770</td>\n",
       "      <td>0.119785</td>\n",
       "      <td>1.413339</td>\n",
       "      <td>91.327371</td>\n",
       "      <td>0.552348</td>\n",
       "      <td>0.423</td>\n",
       "    </tr>\n",
       "  </tbody>\n",
       "</table>\n",
       "</div>"
      ],
      "text/plain": [
       "                      Bias [$\\%$]  MAE [$mm h^{-1}$]  MSE [$(mm h^{-1})^2$]  \\\n",
       "unet (cpcir)           -21.034330           0.087399               0.187331   \n",
       "IMERG Final V7 (GMI)    -7.398772           0.124924               1.731411   \n",
       "GPROF V7 (GMI)           5.799770           0.119785               1.413339   \n",
       "\n",
       "                      SMAPE$_{0.1}$ [$\\%$]  Correlation coeff. []  \\\n",
       "unet (cpcir)                     70.490332               0.924699   \n",
       "IMERG Final V7 (GMI)            114.417614               0.455411   \n",
       "GPROF V7 (GMI)                   91.327371               0.552348   \n",
       "\n",
       "                      Effective resolution [$^\\circ$]  \n",
       "unet (cpcir)                                      inf  \n",
       "IMERG Final V7 (GMI)                              inf  \n",
       "GPROF V7 (GMI)                                  0.423  "
      ]
     },
     "execution_count": 61,
     "metadata": {},
     "output_type": "execute_result"
    }
   ],
   "source": [
    "evaluator.get_precip_quantification_results(name=\"unet (cpcir)\")"
   ]
  },
  {
   "cell_type": "code",
   "execution_count": 68,
   "id": "96eede7e-3dea-4487-991a-188ac1c55ff6",
   "metadata": {},
   "outputs": [],
   "source": [
    "evaluator.get_results().to_netcdf(\"/gdata1/simon/ipwgml/models/unet/results_conus.nc\")"
   ]
  },
  {
   "cell_type": "code",
   "execution_count": 26,
   "id": "f39561e7-fa2a-432c-afdf-6c69ed893b21",
   "metadata": {},
   "outputs": [
    {
     "name": "stderr",
     "output_type": "stream",
     "text": [
      "/home/simon/src/ipwgml/src/ipwgml/metrics.py:672: RuntimeWarning: divide by zero encountered in divide\n",
      "  scales = 0.5 * (N - 1) * self.scale / n\n"
     ]
    },
    {
     "data": {
      "text/html": [
       "<div>\n",
       "<style scoped>\n",
       "    .dataframe tbody tr th:only-of-type {\n",
       "        vertical-align: middle;\n",
       "    }\n",
       "\n",
       "    .dataframe tbody tr th {\n",
       "        vertical-align: top;\n",
       "    }\n",
       "\n",
       "    .dataframe thead th {\n",
       "        text-align: right;\n",
       "    }\n",
       "</style>\n",
       "<table border=\"1\" class=\"dataframe\">\n",
       "  <thead>\n",
       "    <tr style=\"text-align: right;\">\n",
       "      <th></th>\n",
       "      <th>UNet (CPCIR)</th>\n",
       "      <th>IMERG Final V7 (GMI)</th>\n",
       "      <th>GPROF V7 (GMI)</th>\n",
       "    </tr>\n",
       "  </thead>\n",
       "  <tbody>\n",
       "    <tr>\n",
       "      <th>Bias [$\\%$]</th>\n",
       "      <td>6.634100</td>\n",
       "      <td>-7.398772</td>\n",
       "      <td>5.799770</td>\n",
       "    </tr>\n",
       "    <tr>\n",
       "      <th>MAE [$mm h^{-1}$]</th>\n",
       "      <td>0.103858</td>\n",
       "      <td>0.124924</td>\n",
       "      <td>0.119785</td>\n",
       "    </tr>\n",
       "    <tr>\n",
       "      <th>MSE [$(mm h^{-1})^2$]</th>\n",
       "      <td>1.057178</td>\n",
       "      <td>1.731411</td>\n",
       "      <td>1.413339</td>\n",
       "    </tr>\n",
       "    <tr>\n",
       "      <th>SMAPE$_{0.1}$ [$\\%$]</th>\n",
       "      <td>78.295309</td>\n",
       "      <td>114.417614</td>\n",
       "      <td>91.327371</td>\n",
       "    </tr>\n",
       "    <tr>\n",
       "      <th>Correlation coeff. []</th>\n",
       "      <td>0.751765</td>\n",
       "      <td>0.455411</td>\n",
       "      <td>0.552348</td>\n",
       "    </tr>\n",
       "    <tr>\n",
       "      <th>Effective resolution [$^\\circ$]</th>\n",
       "      <td>0.186000</td>\n",
       "      <td>inf</td>\n",
       "      <td>0.423000</td>\n",
       "    </tr>\n",
       "  </tbody>\n",
       "</table>\n",
       "</div>"
      ],
      "text/plain": [
       "                                 UNet (CPCIR)  IMERG Final V7 (GMI)  \\\n",
       "Bias [$\\%$]                          6.634100             -7.398772   \n",
       "MAE [$mm h^{-1}$]                    0.103858              0.124924   \n",
       "MSE [$(mm h^{-1})^2$]                1.057178              1.731411   \n",
       "SMAPE$_{0.1}$ [$\\%$]                78.295309            114.417614   \n",
       "Correlation coeff. []                0.751765              0.455411   \n",
       "Effective resolution [$^\\circ$]      0.186000                   inf   \n",
       "\n",
       "                                 GPROF V7 (GMI)  \n",
       "Bias [$\\%$]                            5.799770  \n",
       "MAE [$mm h^{-1}$]                      0.119785  \n",
       "MSE [$(mm h^{-1})^2$]                  1.413339  \n",
       "SMAPE$_{0.1}$ [$\\%$]                  91.327371  \n",
       "Correlation coeff. []                  0.552348  \n",
       "Effective resolution [$^\\circ$]        0.423000  "
      ]
     },
     "execution_count": 26,
     "metadata": {},
     "output_type": "execute_result"
    }
   ],
   "source": [
    "evaluator.get_precip_quantification_results(name=\"unet (cpcir)\").t"
   ]
  },
  {
   "cell_type": "code",
   "execution_count": 132,
   "id": "140c4ad6-17e4-46d7-8712-4819ba3d53af",
   "metadata": {},
   "outputs": [],
   "source": [
    "res = evaluator.get_results()\n"
   ]
  },
  {
   "cell_type": "code",
   "execution_count": 133,
   "id": "9349f1d6-9b2f-4d9b-a480-7434134bef1a",
   "metadata": {},
   "outputs": [],
   "source": [
    "res.to_netcdf(\"/gdata1/simon/ipwgml/models/unet/results_conus.nc\")"
   ]
  },
  {
   "cell_type": "markdown",
   "id": "9d719d4a-37e8-4c87-8848-fa41720cf220",
   "metadata": {},
   "source": [
    "### Precipitation detection"
   ]
  },
  {
   "cell_type": "code",
   "execution_count": 17,
   "id": "fe10ae8f-3e2e-494d-acc6-dd24b2e5698a",
   "metadata": {},
   "outputs": [
    {
     "data": {
      "text/html": [
       "<div>\n",
       "<style scoped>\n",
       "    .dataframe tbody tr th:only-of-type {\n",
       "        vertical-align: middle;\n",
       "    }\n",
       "\n",
       "    .dataframe tbody tr th {\n",
       "        vertical-align: top;\n",
       "    }\n",
       "\n",
       "    .dataframe thead th {\n",
       "        text-align: right;\n",
       "    }\n",
       "</style>\n",
       "<table border=\"1\" class=\"dataframe\">\n",
       "  <thead>\n",
       "    <tr style=\"text-align: right;\">\n",
       "      <th></th>\n",
       "      <th>UNet (CPCIR)</th>\n",
       "      <th>IMERG Final V7 (GMI)</th>\n",
       "      <th>GPROF V7 (GMI)</th>\n",
       "    </tr>\n",
       "  </thead>\n",
       "  <tbody>\n",
       "    <tr>\n",
       "      <th>POD []</th>\n",
       "      <td>0.735875</td>\n",
       "      <td>0.687576</td>\n",
       "      <td>0.758366</td>\n",
       "    </tr>\n",
       "    <tr>\n",
       "      <th>FAR []</th>\n",
       "      <td>0.245583</td>\n",
       "      <td>0.497714</td>\n",
       "      <td>0.462010</td>\n",
       "    </tr>\n",
       "    <tr>\n",
       "      <th>HSS []</th>\n",
       "      <td>0.742613</td>\n",
       "      <td>0.470956</td>\n",
       "      <td>0.508161</td>\n",
       "    </tr>\n",
       "  </tbody>\n",
       "</table>\n",
       "</div>"
      ],
      "text/plain": [
       "        UNet (CPCIR)  IMERG Final V7 (GMI)  GPROF V7 (GMI)\n",
       "POD []      0.735875              0.687576        0.758366\n",
       "FAR []      0.245583              0.497714        0.462010\n",
       "HSS []      0.742613              0.470956        0.508161"
      ]
     },
     "execution_count": 17,
     "metadata": {},
     "output_type": "execute_result"
    }
   ],
   "source": [
    "evaluator.get_precip_detection_results(name=\"UNet (CPCIR)\").T"
   ]
  },
  {
   "cell_type": "markdown",
   "id": "be6073b1-e718-4a34-825a-78d85e5783fb",
   "metadata": {},
   "source": [
    "### Probabilistic precipitation detection"
   ]
  },
  {
   "cell_type": "code",
   "execution_count": 18,
   "id": "cfb004f2-f157-49b9-90fe-2b88112670dc",
   "metadata": {},
   "outputs": [
    {
     "name": "stderr",
     "output_type": "stream",
     "text": [
      "/home/simon/src/ipwgml/src/ipwgml/metrics.py:904: RuntimeWarning: invalid value encountered in divide\n",
      "  precision = self.n_tp / (self.n_tp + self.n_fp)\n"
     ]
    },
    {
     "data": {
      "text/html": [
       "<div>\n",
       "<style scoped>\n",
       "    .dataframe tbody tr th:only-of-type {\n",
       "        vertical-align: middle;\n",
       "    }\n",
       "\n",
       "    .dataframe tbody tr th {\n",
       "        vertical-align: top;\n",
       "    }\n",
       "\n",
       "    .dataframe thead th {\n",
       "        text-align: right;\n",
       "    }\n",
       "</style>\n",
       "<table border=\"1\" class=\"dataframe\">\n",
       "  <thead>\n",
       "    <tr style=\"text-align: right;\">\n",
       "      <th></th>\n",
       "      <th>UNet (CPCIR)</th>\n",
       "      <th>IMERG Final V7 (GMI)</th>\n",
       "      <th>GPROF V7 (GMI)</th>\n",
       "    </tr>\n",
       "  </thead>\n",
       "  <tbody>\n",
       "    <tr>\n",
       "      <th>AUC []</th>\n",
       "      <td>0.696493</td>\n",
       "      <td>0.0</td>\n",
       "      <td>0.54994</td>\n",
       "    </tr>\n",
       "  </tbody>\n",
       "</table>\n",
       "</div>"
      ],
      "text/plain": [
       "        UNet (CPCIR)  IMERG Final V7 (GMI)  GPROF V7 (GMI)\n",
       "AUC []      0.696493                   0.0         0.54994"
      ]
     },
     "execution_count": 18,
     "metadata": {},
     "output_type": "execute_result"
    }
   ],
   "source": [
    "evaluator.get_prob_precip_detection_results(name=\"UNet (CPCIR)\").T"
   ]
  },
  {
   "cell_type": "markdown",
   "id": "a3d8f381-620b-4318-8425-247830d32c1f",
   "metadata": {},
   "source": [
    "### Heavy precipitation detection"
   ]
  },
  {
   "cell_type": "code",
   "execution_count": 19,
   "id": "cbac425c-54b6-4bac-99cb-8d84524e9c4c",
   "metadata": {},
   "outputs": [
    {
     "data": {
      "text/html": [
       "<div>\n",
       "<style scoped>\n",
       "    .dataframe tbody tr th:only-of-type {\n",
       "        vertical-align: middle;\n",
       "    }\n",
       "\n",
       "    .dataframe tbody tr th {\n",
       "        vertical-align: top;\n",
       "    }\n",
       "\n",
       "    .dataframe thead th {\n",
       "        text-align: right;\n",
       "    }\n",
       "</style>\n",
       "<table border=\"1\" class=\"dataframe\">\n",
       "  <thead>\n",
       "    <tr style=\"text-align: right;\">\n",
       "      <th></th>\n",
       "      <th>UNet (CPCIR)</th>\n",
       "      <th>IMERG Final V7 (GMI)</th>\n",
       "      <th>GPROF V7 (GMI)</th>\n",
       "    </tr>\n",
       "  </thead>\n",
       "  <tbody>\n",
       "    <tr>\n",
       "      <th>POD []</th>\n",
       "      <td>0.384255</td>\n",
       "      <td>0.687576</td>\n",
       "      <td>0.758366</td>\n",
       "    </tr>\n",
       "    <tr>\n",
       "      <th>FAR []</th>\n",
       "      <td>0.327384</td>\n",
       "      <td>0.497714</td>\n",
       "      <td>0.462010</td>\n",
       "    </tr>\n",
       "    <tr>\n",
       "      <th>HSS []</th>\n",
       "      <td>0.672092</td>\n",
       "      <td>0.470956</td>\n",
       "      <td>0.508161</td>\n",
       "    </tr>\n",
       "  </tbody>\n",
       "</table>\n",
       "</div>"
      ],
      "text/plain": [
       "        UNet (CPCIR)  IMERG Final V7 (GMI)  GPROF V7 (GMI)\n",
       "POD []      0.384255              0.687576        0.758366\n",
       "FAR []      0.327384              0.497714        0.462010\n",
       "HSS []      0.672092              0.470956        0.508161"
      ]
     },
     "execution_count": 19,
     "metadata": {},
     "output_type": "execute_result"
    }
   ],
   "source": [
    "evaluator.get_heavy_precip_detection_results(name=\"UNet (CPCIR)\").T"
   ]
  },
  {
   "cell_type": "markdown",
   "id": "701b282b-13df-4c6f-8a3c-cb6e3dd053fb",
   "metadata": {},
   "source": [
    "### Probabilistic heavy precipitation detection"
   ]
  },
  {
   "cell_type": "code",
   "execution_count": 20,
   "id": "57681c38-b4b0-498c-bc25-af21a1c01548",
   "metadata": {},
   "outputs": [
    {
     "name": "stderr",
     "output_type": "stream",
     "text": [
      "/home/simon/src/ipwgml/src/ipwgml/metrics.py:904: RuntimeWarning: invalid value encountered in divide\n",
      "  precision = self.n_tp / (self.n_tp + self.n_fp)\n"
     ]
    },
    {
     "data": {
      "text/html": [
       "<div>\n",
       "<style scoped>\n",
       "    .dataframe tbody tr th:only-of-type {\n",
       "        vertical-align: middle;\n",
       "    }\n",
       "\n",
       "    .dataframe tbody tr th {\n",
       "        vertical-align: top;\n",
       "    }\n",
       "\n",
       "    .dataframe thead th {\n",
       "        text-align: right;\n",
       "    }\n",
       "</style>\n",
       "<table border=\"1\" class=\"dataframe\">\n",
       "  <thead>\n",
       "    <tr style=\"text-align: right;\">\n",
       "      <th></th>\n",
       "      <th>UNet (CPCIR)</th>\n",
       "      <th>IMERG Final V7 (GMI)</th>\n",
       "      <th>GPROF V7 (GMI)</th>\n",
       "    </tr>\n",
       "  </thead>\n",
       "  <tbody>\n",
       "    <tr>\n",
       "      <th>AUC []</th>\n",
       "      <td>0.554314</td>\n",
       "      <td>0.0</td>\n",
       "      <td>0.298044</td>\n",
       "    </tr>\n",
       "  </tbody>\n",
       "</table>\n",
       "</div>"
      ],
      "text/plain": [
       "        UNet (CPCIR)  IMERG Final V7 (GMI)  GPROF V7 (GMI)\n",
       "AUC []      0.554314                   0.0        0.298044"
      ]
     },
     "execution_count": 20,
     "metadata": {},
     "output_type": "execute_result"
    }
   ],
   "source": [
    "evaluator.get_prob_heavy_precip_detection_results(name=\"UNet (CPCIR)\").T"
   ]
  }
 ],
 "metadata": {
  "kernelspec": {
   "display_name": "Python 3 (ipykernel)",
   "language": "python",
   "name": "python3"
  },
  "language_info": {
   "codemirror_mode": {
    "name": "ipython",
    "version": 3
   },
   "file_extension": ".py",
   "mimetype": "text/x-python",
   "name": "python",
   "nbconvert_exporter": "python",
   "pygments_lexer": "ipython3",
   "version": "3.10.14"
  }
 },
 "nbformat": 4,
 "nbformat_minor": 5
}
