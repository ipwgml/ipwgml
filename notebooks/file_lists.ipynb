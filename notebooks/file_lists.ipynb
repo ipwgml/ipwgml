{
 "cells": [
  {
   "cell_type": "markdown",
   "id": "0618bdce-450d-4590-acc1-d4585caac5d6",
   "metadata": {},
   "source": [
    "# File splits\n",
    "\n",
    "This notebook is used to create the file lists defining the training, validation, and testing splits of the SPR dataset."
   ]
  },
  {
   "cell_type": "code",
   "execution_count": 56,
   "id": "4cb784d5-7597-4ada-974c-79ee7db69b79",
   "metadata": {},
   "outputs": [
    {
     "name": "stdout",
     "output_type": "stream",
     "text": [
      "The autoreload extension is already loaded. To reload it, use:\n",
      "  %reload_ext autoreload\n"
     ]
    }
   ],
   "source": [
    "%load_ext autoreload\n",
    "%autoreload 2\n",
    "    \n",
    "from pathlib import Path\n",
    "import numpy as np\n",
    "import matplotlib.pyplot as plt"
   ]
  },
  {
   "cell_type": "code",
   "execution_count": 100,
   "id": "75abd2bc-5898-4abd-b3b2-37624d379f2d",
   "metadata": {},
   "outputs": [
    {
     "data": {
      "text/plain": [
       "17"
      ]
     },
     "execution_count": 100,
     "metadata": {},
     "output_type": "execute_result"
    }
   ],
   "source": [
    "from ipwgml.utils import get_median_time\n",
    "ref_sensor = \"gmi\"\n",
    "geometry = \"on_swath\"\n",
    "domain = \"conus\"\n",
    "\n",
    "files = sorted(list(Path(f\"/home/simon/data/ipwgml_new/spr_new/training_testing_validation/{ref_sensor}/{geometry}/\").glob(\"**/*_202001*.nc\")))\n",
    "\n",
    "ancillary_files = {\n",
    "    get_median_time(path): path for path in files if path.name.startswith(\"ancillary\")\n",
    "}\n",
    "obs_files = {\n",
    "    get_median_time(path): path for path in files if path.name.startswith(f\"{ref_sensor}\")\n",
    "}\n",
    "target_files = {\n",
    "    get_median_time(path): path for path in files if path.name.startswith(\"target\")\n",
    "}\n",
    "len(ancillary_files)"
   ]
  },
  {
   "cell_type": "code",
   "execution_count": 101,
   "id": "3b984621-abc4-46bc-ada8-9c9184be93f2",
   "metadata": {},
   "outputs": [],
   "source": [
    "test_days = [1, 2, 3]\n",
    "validation_days = [3, 4, 5]\n",
    "\n",
    "training_files = {}\n",
    "validation_files = {}\n",
    "test_files = {}\n",
    "\n",
    "times = set.intersection(set(ancillary_files.keys()), set(obs_files.keys()), set(target_files.keys()))\n",
    "for time in times:\n",
    "    if time.hour in test_days:\n",
    "        test_files.setdefault(f\"{ref_sensor}\", []).append(obs_files[time])\n",
    "        test_files.setdefault(\"ancillary\", []).append(ancillary_files[time])\n",
    "        test_files.setdefault(\"target_files\", []).append(target_files[time])\n",
    "    elif time.hour in validation_days:\n",
    "        validation_files.setdefault(f\"{ref_sensor}\", []).append(obs_files[time])\n",
    "        validation_files.setdefault(\"ancillary\", []).append(ancillary_files[time])\n",
    "        validation_files.setdefault(\"target_files\", []).append(target_files[time])\n",
    "    else:\n",
    "        training_files.setdefault(f\"{ref_sensor}\", []).append(obs_files[time])\n",
    "        training_files.setdefault(\"ancillary\", []).append(ancillary_files[time])\n",
    "        training_files.setdefault(\"target_files\", []).append(target_files[time])"
   ]
  },
  {
   "cell_type": "markdown",
   "id": "8d1db428-da5e-446a-9fe7-a72c1ecbae21",
   "metadata": {},
   "source": [
    "## Organize files\n",
    "### Training, validation, and testing splits"
   ]
  },
  {
   "cell_type": "code",
   "execution_count": 102,
   "id": "3d96e04d-0bbf-413c-8a72-6191d0964af7",
   "metadata": {},
   "outputs": [],
   "source": [
    "target_folder = Path(f\"/home/simon/data/ipwgml_test/spr/\")"
   ]
  },
  {
   "cell_type": "code",
   "execution_count": 103,
   "id": "d9781397-9fc5-48cc-948b-76623c7ac362",
   "metadata": {},
   "outputs": [],
   "source": [
    "import shutil\n",
    "\n",
    "splits = {\n",
    "    \"training\": training_files,\n",
    "    \"validation\": validation_files,\n",
    "    \"testing\": test_files\n",
    "}\n",
    "\n",
    "for split, files in splits.items():\n",
    "    times = np.array([get_median_time(path) for path in next(iter(files.values()))])\n",
    "    subsets = np.logspace(-2, 0, 5)\n",
    "    indices = np.random.permutation(times.size)\n",
    "    time_splits = []\n",
    "    start = 0\n",
    "    for frac in subsets:\n",
    "        n_samples = max(1, int(frac * times.size))\n",
    "        subset_indices = indices[start:start + n_samples]\n",
    "        time_splits.append(subset_indices)\n",
    "        start += n_samples\n",
    "\n",
    "    assert set(range(times.size)) == set.union(*[set(time_split) for time_split in time_splits])\n",
    "\n",
    "    for subset, inds in zip([\"xs\", \"s\", \"m\", \"l\", \"xl\"], time_splits):\n",
    "        for source, source_files in files.items():\n",
    "            source_files = np.array(source_files)\n",
    "            \n",
    "            for path in source_files[inds]:\n",
    "                time = get_median_time(path)\n",
    "                year = time.year\n",
    "                month = time.month\n",
    "                day = time.day\n",
    "                output_path = target_folder / ref_sensor / split / subset / geometry / f\"{year:04}\" / f\"{month:02}\" / f\"{day:02}\"\n",
    "                output_path.mkdir(exist_ok=True, parents=True)\n",
    "                shutil.copyfile(path, output_path / path.name)\n",
    "        \n",
    "        \n"
   ]
  },
  {
   "cell_type": "markdown",
   "id": "450b006f-76e5-403d-9793-30874b3a5a6a",
   "metadata": {},
   "source": [
    "### Evaluation files"
   ]
  },
  {
   "cell_type": "code",
   "execution_count": 106,
   "id": "7f01e77f-18c0-4ba6-bbfc-72e21cdd86fd",
   "metadata": {},
   "outputs": [
    {
     "name": "stdout",
     "output_type": "stream",
     "text": [
      "\u001b[0m\u001b[01;34mgridded\u001b[0m/  \u001b[01;34mon_swath\u001b[0m/\n"
     ]
    }
   ],
   "source": [
    "%ls /home/simon/data/ipwgml_new/spr_new/evaluation"
   ]
  },
  {
   "cell_type": "code",
   "execution_count": 127,
   "id": "a33b6cb8-e8c1-4808-a548-295f68288a99",
   "metadata": {},
   "outputs": [
    {
     "data": {
      "text/plain": [
       "8"
      ]
     },
     "execution_count": 127,
     "metadata": {},
     "output_type": "execute_result"
    }
   ],
   "source": [
    "from ipwgml.utils import get_median_time\n",
    "ref_sensor = \"gmi\"\n",
    "geometry = \"on_swath\"\n",
    "domain = \"conus\"\n",
    "\n",
    "files = sorted(list(Path(f\"/home/simon/data/ipwgml_new/spr_new/evaluation/{geometry}\").glob(\"**/*.nc\")))\n",
    "\n",
    "ancillary_files = {\n",
    "    get_median_time(path): path for path in files if path.name.startswith(\"ancillary\")\n",
    "}\n",
    "obs_files = {\n",
    "    get_median_time(path): path for path in files if path.name.startswith(f\"{ref_sensor}\")\n",
    "}\n",
    "target_files = {\n",
    "    get_median_time(path): path for path in files if path.name.startswith(\"target\")\n",
    "}\n",
    "len(target_files)"
   ]
  },
  {
   "cell_type": "code",
   "execution_count": null,
   "id": "83c9a9c5-c2d2-410b-af7a-1987f7334f7b",
   "metadata": {},
   "outputs": [],
   "source": []
  },
  {
   "cell_type": "code",
   "execution_count": 128,
   "id": "c345ab58-d3b3-4597-b497-d62a4e145d9f",
   "metadata": {},
   "outputs": [],
   "source": [
    "import shutil\n",
    "\n",
    "split = \"evaluation\"\n",
    "files = {\n",
    "   f\"{ref_sensor}\": list(obs_files.values()),\n",
    "    \"ancillary\": list(ancillary_files.values()),\n",
    "    \"target\": list(target_files.values())\n",
    "}\n",
    "\n",
    "times = np.array([get_median_time(path) for path in next(iter(files.values()))])\n",
    "subsets = np.logspace(-2, 0, 5)\n",
    "indices = np.random.permutation(times.size)\n",
    "time_splits = []\n",
    "start = 0\n",
    "for frac in subsets:\n",
    "    n_samples = max(1, int(frac * times.size))\n",
    "    subset_indices = indices[start:start + n_samples]\n",
    "    time_splits.append(subset_indices)\n",
    "    start += n_samples\n",
    "\n",
    "assert set(range(times.size)) == set.union(*[set(time_split) for time_split in time_splits])\n",
    "\n",
    "for source, source_files in files.items():\n",
    "    source_files = np.array(source_files)\n",
    "    \n",
    "    for path in source_files[inds]:\n",
    "        time = get_median_time(path)\n",
    "        year = time.year\n",
    "        month = time.month\n",
    "        day = time.day\n",
    "        output_path = target_folder / ref_sensor / split / domain / geometry / f\"{year:04}\" / f\"{month:02}\" / f\"{day:02}\"\n",
    "        output_path.mkdir(exist_ok=True, parents=True)\n",
    "        shutil.copyfile(path, output_path / path.name)\n",
    "\n"
   ]
  },
  {
   "cell_type": "markdown",
   "id": "dc3c5d03-8f86-4293-b95d-caf4013fe466",
   "metadata": {},
   "source": [
    "### Check consistency\n",
    "\n",
    "The ancillary, target, and gmi files in all folders must correspond to the same median times."
   ]
  },
  {
   "cell_type": "code",
   "execution_count": 129,
   "id": "596db022-fbbd-42ab-b7bf-0d28a4b2337a",
   "metadata": {},
   "outputs": [],
   "source": [
    "def check_consistency(path: Path):\n",
    "    \"\"\"\n",
    "    Check consistency of files in given folder.\n",
    "    \"\"\"\n",
    "    anc_times = [get_median_time(fle) for fle in path.glob(\"ancillary*.nc\")]\n",
    "    gmi_times = [get_median_time(fle) for fle in path.glob(\"gmi*.nc\")]\n",
    "    target_times = [get_median_time(fle) for fle in path.glob(\"target*.nc\")]\n",
    "\n",
    "    assert set(anc_times) == set(gmi_times)\n",
    "    assert set(anc_times) == set(target_times)\n",
    "\n",
    "for split in splits:\n",
    "    for size in [\"xs\", \"s\", \"m\", \"l\", \"xl\"]:\n",
    "        check_consistency(target_folder / \"gmi\" / \"gridded\" / split / size / \"2020\" / \"01\" / \"01\")\n",
    "    "
   ]
  },
  {
   "cell_type": "markdown",
   "id": "97a57d8c-7df6-4230-80fc-681529ee701e",
   "metadata": {},
   "source": [
    "## "
   ]
  },
  {
   "cell_type": "markdown",
   "id": "a47024f8-8ad8-4b7b-b7f6-99581677f1f7",
   "metadata": {},
   "source": [
    "## Get files"
   ]
  },
  {
   "cell_type": "code",
   "execution_count": 130,
   "id": "12d00193-83c9-4d1c-a946-73d4931eea04",
   "metadata": {},
   "outputs": [
    {
     "name": "stdout",
     "output_type": "stream",
     "text": [
      "env: IPWGML_DATA_PATH=/home/simon/data/ipwgml_test\n"
     ]
    }
   ],
   "source": [
    "%env IPWGML_DATA_PATH=/home/simon/data/ipwgml_test"
   ]
  },
  {
   "cell_type": "code",
   "execution_count": 131,
   "id": "0464eb54-c25a-4d5e-9ac5-a9dc54085f70",
   "metadata": {},
   "outputs": [
    {
     "data": {
      "text/plain": [
       "{'gmi': [PosixPath('/home/simon/data/ipwgml_test/spr/gmi/training/xs/gridded/2020/01/01/gmi_20200101105109.nc'),\n",
       "  PosixPath('/home/simon/data/ipwgml_test/spr/gmi/training/s/gridded/2020/01/01/gmi_20200101091316.nc'),\n",
       "  PosixPath('/home/simon/data/ipwgml_test/spr/gmi/training/m/gridded/2020/01/01/gmi_20200101122157.nc'),\n",
       "  PosixPath('/home/simon/data/ipwgml_test/spr/gmi/training/l/gridded/2020/01/01/gmi_20200101073914.nc'),\n",
       "  PosixPath('/home/simon/data/ipwgml_test/spr/gmi/training/l/gridded/2020/01/01/gmi_20200101091548.nc'),\n",
       "  PosixPath('/home/simon/data/ipwgml_test/spr/gmi/training/l/gridded/2020/01/01/gmi_20200101104346.nc'),\n",
       "  PosixPath('/home/simon/data/ipwgml_test/spr/gmi/training/xl/gridded/2020/01/01/gmi_20200101091029.nc'),\n",
       "  PosixPath('/home/simon/data/ipwgml_test/spr/gmi/training/xl/gridded/2020/01/01/gmi_20200101104548.nc'),\n",
       "  PosixPath('/home/simon/data/ipwgml_test/spr/gmi/training/xl/gridded/2020/01/01/gmi_20200101104754.nc'),\n",
       "  PosixPath('/home/simon/data/ipwgml_test/spr/gmi/training/xl/gridded/2020/01/01/gmi_20200101121855.nc')],\n",
       " 'ancillary': [PosixPath('/home/simon/data/ipwgml_test/spr/gmi/training/xs/gridded/2020/01/01/ancillary_20200101105109.nc'),\n",
       "  PosixPath('/home/simon/data/ipwgml_test/spr/gmi/training/s/gridded/2020/01/01/ancillary_20200101091316.nc'),\n",
       "  PosixPath('/home/simon/data/ipwgml_test/spr/gmi/training/m/gridded/2020/01/01/ancillary_20200101122157.nc'),\n",
       "  PosixPath('/home/simon/data/ipwgml_test/spr/gmi/training/l/gridded/2020/01/01/ancillary_20200101073914.nc'),\n",
       "  PosixPath('/home/simon/data/ipwgml_test/spr/gmi/training/l/gridded/2020/01/01/ancillary_20200101091548.nc'),\n",
       "  PosixPath('/home/simon/data/ipwgml_test/spr/gmi/training/l/gridded/2020/01/01/ancillary_20200101104346.nc'),\n",
       "  PosixPath('/home/simon/data/ipwgml_test/spr/gmi/training/xl/gridded/2020/01/01/ancillary_20200101091029.nc'),\n",
       "  PosixPath('/home/simon/data/ipwgml_test/spr/gmi/training/xl/gridded/2020/01/01/ancillary_20200101104548.nc'),\n",
       "  PosixPath('/home/simon/data/ipwgml_test/spr/gmi/training/xl/gridded/2020/01/01/ancillary_20200101104754.nc'),\n",
       "  PosixPath('/home/simon/data/ipwgml_test/spr/gmi/training/xl/gridded/2020/01/01/ancillary_20200101121855.nc')],\n",
       " 'target': [PosixPath('/home/simon/data/ipwgml_test/spr/gmi/training/xs/gridded/2020/01/01/target_20200101105109.nc'),\n",
       "  PosixPath('/home/simon/data/ipwgml_test/spr/gmi/training/s/gridded/2020/01/01/target_20200101091316.nc'),\n",
       "  PosixPath('/home/simon/data/ipwgml_test/spr/gmi/training/m/gridded/2020/01/01/target_20200101122157.nc'),\n",
       "  PosixPath('/home/simon/data/ipwgml_test/spr/gmi/training/l/gridded/2020/01/01/target_20200101073914.nc'),\n",
       "  PosixPath('/home/simon/data/ipwgml_test/spr/gmi/training/l/gridded/2020/01/01/target_20200101091548.nc'),\n",
       "  PosixPath('/home/simon/data/ipwgml_test/spr/gmi/training/l/gridded/2020/01/01/target_20200101104346.nc'),\n",
       "  PosixPath('/home/simon/data/ipwgml_test/spr/gmi/training/xl/gridded/2020/01/01/target_20200101091029.nc'),\n",
       "  PosixPath('/home/simon/data/ipwgml_test/spr/gmi/training/xl/gridded/2020/01/01/target_20200101104548.nc'),\n",
       "  PosixPath('/home/simon/data/ipwgml_test/spr/gmi/training/xl/gridded/2020/01/01/target_20200101104754.nc'),\n",
       "  PosixPath('/home/simon/data/ipwgml_test/spr/gmi/training/xl/gridded/2020/01/01/target_20200101121855.nc')]}"
      ]
     },
     "execution_count": 131,
     "metadata": {},
     "output_type": "execute_result"
    }
   ],
   "source": [
    "from ipwgml.data import get_files\n",
    "\n",
    "get_files(reference_sensor=\"gmi\", geometry=\"gridded\", split=\"training\", subset=\"xl\")"
   ]
  },
  {
   "cell_type": "code",
   "execution_count": 141,
   "id": "6f415e51-49e4-4667-a2ec-0121f7f167f0",
   "metadata": {},
   "outputs": [],
   "source": [
    "files = {}\n",
    "for reference_sensor in [\"gmi\"]:\n",
    "    files[reference_sensor] = {}\n",
    "    for split in [\"training\", \"validation\", \"testing\", \"evaluation\"]:\n",
    "        files[reference_sensor][split] = {}\n",
    "        if split != \"evaluation\":\n",
    "            for subset in [\"xs\", \"s\", \"m\", \"l\", \"xl\"]:\n",
    "                files[reference_sensor][split][subset] = {}\n",
    "                for geometry in [\"gridded\", \"on_swath\"]:\n",
    "                    source_files = get_files(\n",
    "                        reference_sensor=reference_sensor,\n",
    "                        geometry=geometry,\n",
    "                        split=split,\n",
    "                        subset=subset,\n",
    "                        relative_to=\"/home/simon/data/ipwgml_test\"\n",
    "                    )\n",
    "                    source_files = {name: [str(path) for path in fls] for name, fls in source_files.items()}\n",
    "                    files[reference_sensor][split][domain] = source_files\n",
    "                    \n",
    "        else:\n",
    "            for domain in [\"conus\", \"korea\", \"austria\"]:\n",
    "                files[reference_sensor][split][domain] = {}\n",
    "                for geometry in [\"gridded\", \"on_swath\"]:\n",
    "                    source_files = get_files(\n",
    "                        reference_sensor=reference_sensor,\n",
    "                        geometry=geometry,\n",
    "                        split=split,\n",
    "                        domain=domain,\n",
    "                        relative_to=\"/home/simon/data/ipwgml_test\"\n",
    "                    )\n",
    "                    source_files = {name: [str(path) for path in fls] for name, fls in source_files.items()}\n",
    "                    files[reference_sensor][split][domain] = source_files\n",
    "                    "
   ]
  },
  {
   "cell_type": "code",
   "execution_count": 142,
   "id": "7e75203f-7444-4397-a331-09ac957892e3",
   "metadata": {},
   "outputs": [
    {
     "data": {
      "text/plain": [
       "{'gmi': {'training': {'xs': {},\n",
       "   'austria': {'gmi': ['spr/gmi/training/xs/on_swath/2020/01/01/gmi_20200101074019.nc',\n",
       "     'spr/gmi/training/xs/on_swath/2020/01/01/gmi_20200101104417.nc',\n",
       "     'spr/gmi/training/xs/on_swath/2020/01/01/gmi_20200101121953.nc',\n",
       "     'spr/gmi/training/xs/on_swath/2020/01/01/gmi_20200101122304.nc',\n",
       "     'spr/gmi/training/s/on_swath/2020/01/01/gmi_20200101074019.nc',\n",
       "     'spr/gmi/training/s/on_swath/2020/01/01/gmi_20200101091219.nc',\n",
       "     'spr/gmi/training/s/on_swath/2020/01/01/gmi_20200101104949.nc',\n",
       "     'spr/gmi/training/s/on_swath/2020/01/01/gmi_20200101122304.nc',\n",
       "     'spr/gmi/training/m/on_swath/2020/01/01/gmi_20200101091607.nc',\n",
       "     'spr/gmi/training/m/on_swath/2020/01/01/gmi_20200101104949.nc',\n",
       "     'spr/gmi/training/m/on_swath/2020/01/01/gmi_20200101121953.nc',\n",
       "     'spr/gmi/training/l/on_swath/2020/01/01/gmi_20200101074019.nc',\n",
       "     'spr/gmi/training/l/on_swath/2020/01/01/gmi_20200101091219.nc',\n",
       "     'spr/gmi/training/l/on_swath/2020/01/01/gmi_20200101091306.nc',\n",
       "     'spr/gmi/training/l/on_swath/2020/01/01/gmi_20200101091607.nc',\n",
       "     'spr/gmi/training/l/on_swath/2020/01/01/gmi_20200101104949.nc',\n",
       "     'spr/gmi/training/l/on_swath/2020/01/01/gmi_20200101121953.nc',\n",
       "     'spr/gmi/training/l/on_swath/2020/01/01/gmi_20200101122304.nc',\n",
       "     'spr/gmi/training/xl/on_swath/2020/01/01/gmi_20200101074019.nc',\n",
       "     'spr/gmi/training/xl/on_swath/2020/01/01/gmi_20200101091306.nc',\n",
       "     'spr/gmi/training/xl/on_swath/2020/01/01/gmi_20200101091607.nc',\n",
       "     'spr/gmi/training/xl/on_swath/2020/01/01/gmi_20200101104417.nc',\n",
       "     'spr/gmi/training/xl/on_swath/2020/01/01/gmi_20200101104949.nc',\n",
       "     'spr/gmi/training/xl/on_swath/2020/01/01/gmi_20200101121953.nc',\n",
       "     'spr/gmi/training/xl/on_swath/2020/01/01/gmi_20200101122304.nc'],\n",
       "    'ancillary': ['spr/gmi/training/xs/on_swath/2020/01/01/ancillary_20200101074019.nc',\n",
       "     'spr/gmi/training/xs/on_swath/2020/01/01/ancillary_20200101104417.nc',\n",
       "     'spr/gmi/training/xs/on_swath/2020/01/01/ancillary_20200101121953.nc',\n",
       "     'spr/gmi/training/xs/on_swath/2020/01/01/ancillary_20200101122304.nc',\n",
       "     'spr/gmi/training/s/on_swath/2020/01/01/ancillary_20200101074019.nc',\n",
       "     'spr/gmi/training/s/on_swath/2020/01/01/ancillary_20200101091219.nc',\n",
       "     'spr/gmi/training/s/on_swath/2020/01/01/ancillary_20200101104949.nc',\n",
       "     'spr/gmi/training/s/on_swath/2020/01/01/ancillary_20200101122304.nc',\n",
       "     'spr/gmi/training/m/on_swath/2020/01/01/ancillary_20200101091607.nc',\n",
       "     'spr/gmi/training/m/on_swath/2020/01/01/ancillary_20200101104949.nc',\n",
       "     'spr/gmi/training/m/on_swath/2020/01/01/ancillary_20200101121953.nc',\n",
       "     'spr/gmi/training/l/on_swath/2020/01/01/ancillary_20200101074019.nc',\n",
       "     'spr/gmi/training/l/on_swath/2020/01/01/ancillary_20200101091219.nc',\n",
       "     'spr/gmi/training/l/on_swath/2020/01/01/ancillary_20200101091306.nc',\n",
       "     'spr/gmi/training/l/on_swath/2020/01/01/ancillary_20200101091607.nc',\n",
       "     'spr/gmi/training/l/on_swath/2020/01/01/ancillary_20200101104949.nc',\n",
       "     'spr/gmi/training/l/on_swath/2020/01/01/ancillary_20200101121953.nc',\n",
       "     'spr/gmi/training/l/on_swath/2020/01/01/ancillary_20200101122304.nc',\n",
       "     'spr/gmi/training/xl/on_swath/2020/01/01/ancillary_20200101074019.nc',\n",
       "     'spr/gmi/training/xl/on_swath/2020/01/01/ancillary_20200101091306.nc',\n",
       "     'spr/gmi/training/xl/on_swath/2020/01/01/ancillary_20200101091607.nc',\n",
       "     'spr/gmi/training/xl/on_swath/2020/01/01/ancillary_20200101104417.nc',\n",
       "     'spr/gmi/training/xl/on_swath/2020/01/01/ancillary_20200101104949.nc',\n",
       "     'spr/gmi/training/xl/on_swath/2020/01/01/ancillary_20200101121953.nc',\n",
       "     'spr/gmi/training/xl/on_swath/2020/01/01/ancillary_20200101122304.nc'],\n",
       "    'target': ['spr/gmi/training/xs/on_swath/2020/01/01/target_20200101074019.nc',\n",
       "     'spr/gmi/training/xs/on_swath/2020/01/01/target_20200101104417.nc',\n",
       "     'spr/gmi/training/xs/on_swath/2020/01/01/target_20200101121953.nc',\n",
       "     'spr/gmi/training/xs/on_swath/2020/01/01/target_20200101122304.nc',\n",
       "     'spr/gmi/training/s/on_swath/2020/01/01/target_20200101074019.nc',\n",
       "     'spr/gmi/training/s/on_swath/2020/01/01/target_20200101091219.nc',\n",
       "     'spr/gmi/training/s/on_swath/2020/01/01/target_20200101104949.nc',\n",
       "     'spr/gmi/training/s/on_swath/2020/01/01/target_20200101122304.nc',\n",
       "     'spr/gmi/training/m/on_swath/2020/01/01/target_20200101091607.nc',\n",
       "     'spr/gmi/training/m/on_swath/2020/01/01/target_20200101104949.nc',\n",
       "     'spr/gmi/training/m/on_swath/2020/01/01/target_20200101121953.nc',\n",
       "     'spr/gmi/training/l/on_swath/2020/01/01/target_20200101074019.nc',\n",
       "     'spr/gmi/training/l/on_swath/2020/01/01/target_20200101091219.nc',\n",
       "     'spr/gmi/training/l/on_swath/2020/01/01/target_20200101091306.nc',\n",
       "     'spr/gmi/training/l/on_swath/2020/01/01/target_20200101091607.nc',\n",
       "     'spr/gmi/training/l/on_swath/2020/01/01/target_20200101104949.nc',\n",
       "     'spr/gmi/training/l/on_swath/2020/01/01/target_20200101121953.nc',\n",
       "     'spr/gmi/training/l/on_swath/2020/01/01/target_20200101122304.nc',\n",
       "     'spr/gmi/training/xl/on_swath/2020/01/01/target_20200101074019.nc',\n",
       "     'spr/gmi/training/xl/on_swath/2020/01/01/target_20200101091306.nc',\n",
       "     'spr/gmi/training/xl/on_swath/2020/01/01/target_20200101091607.nc',\n",
       "     'spr/gmi/training/xl/on_swath/2020/01/01/target_20200101104417.nc',\n",
       "     'spr/gmi/training/xl/on_swath/2020/01/01/target_20200101104949.nc',\n",
       "     'spr/gmi/training/xl/on_swath/2020/01/01/target_20200101121953.nc',\n",
       "     'spr/gmi/training/xl/on_swath/2020/01/01/target_20200101122304.nc']},\n",
       "   's': {},\n",
       "   'm': {},\n",
       "   'l': {},\n",
       "   'xl': {}},\n",
       "  'validation': {'xs': {},\n",
       "   'austria': {'gmi': ['spr/gmi/validation/xs/on_swath/2020/01/01/gmi_20200101041937.nc',\n",
       "     'spr/gmi/validation/s/on_swath/2020/01/01/gmi_20200101041622.nc',\n",
       "     'spr/gmi/validation/s/on_swath/2020/01/01/gmi_20200101041804.nc',\n",
       "     'spr/gmi/validation/m/on_swath/2020/01/01/gmi_20200101041622.nc',\n",
       "     'spr/gmi/validation/m/on_swath/2020/01/01/gmi_20200101041804.nc'],\n",
       "    'ancillary': ['spr/gmi/validation/xs/on_swath/2020/01/01/ancillary_20200101041937.nc',\n",
       "     'spr/gmi/validation/s/on_swath/2020/01/01/ancillary_20200101041622.nc',\n",
       "     'spr/gmi/validation/s/on_swath/2020/01/01/ancillary_20200101041804.nc',\n",
       "     'spr/gmi/validation/m/on_swath/2020/01/01/ancillary_20200101041622.nc',\n",
       "     'spr/gmi/validation/m/on_swath/2020/01/01/ancillary_20200101041804.nc'],\n",
       "    'target': ['spr/gmi/validation/xs/on_swath/2020/01/01/target_20200101041937.nc',\n",
       "     'spr/gmi/validation/s/on_swath/2020/01/01/target_20200101041622.nc',\n",
       "     'spr/gmi/validation/s/on_swath/2020/01/01/target_20200101041804.nc',\n",
       "     'spr/gmi/validation/m/on_swath/2020/01/01/target_20200101041622.nc',\n",
       "     'spr/gmi/validation/m/on_swath/2020/01/01/target_20200101041804.nc']},\n",
       "   's': {},\n",
       "   'm': {},\n",
       "   'l': {},\n",
       "   'xl': {}},\n",
       "  'testing': {'xs': {},\n",
       "   'austria': {'gmi': ['spr/gmi/testing/xs/on_swath/2020/01/01/gmi_20200101010539.nc',\n",
       "     'spr/gmi/testing/xs/on_swath/2020/01/01/gmi_20200101010852.nc',\n",
       "     'spr/gmi/testing/xs/on_swath/2020/01/01/gmi_20200101023930.nc',\n",
       "     'spr/gmi/testing/xs/on_swath/2020/01/01/gmi_20200101024428.nc',\n",
       "     'spr/gmi/testing/s/on_swath/2020/01/01/gmi_20200101010539.nc',\n",
       "     'spr/gmi/testing/s/on_swath/2020/01/01/gmi_20200101010852.nc',\n",
       "     'spr/gmi/testing/s/on_swath/2020/01/01/gmi_20200101011037.nc',\n",
       "     'spr/gmi/testing/s/on_swath/2020/01/01/gmi_20200101023930.nc',\n",
       "     'spr/gmi/testing/s/on_swath/2020/01/01/gmi_20200101024307.nc',\n",
       "     'spr/gmi/testing/m/on_swath/2020/01/01/gmi_20200101010539.nc',\n",
       "     'spr/gmi/testing/m/on_swath/2020/01/01/gmi_20200101023930.nc',\n",
       "     'spr/gmi/testing/m/on_swath/2020/01/01/gmi_20200101024307.nc',\n",
       "     'spr/gmi/testing/m/on_swath/2020/01/01/gmi_20200101024428.nc',\n",
       "     'spr/gmi/testing/l/on_swath/2020/01/01/gmi_20200101010539.nc',\n",
       "     'spr/gmi/testing/l/on_swath/2020/01/01/gmi_20200101010852.nc',\n",
       "     'spr/gmi/testing/l/on_swath/2020/01/01/gmi_20200101011037.nc',\n",
       "     'spr/gmi/testing/l/on_swath/2020/01/01/gmi_20200101023930.nc',\n",
       "     'spr/gmi/testing/xl/on_swath/2020/01/01/gmi_20200101010852.nc',\n",
       "     'spr/gmi/testing/xl/on_swath/2020/01/01/gmi_20200101011037.nc',\n",
       "     'spr/gmi/testing/xl/on_swath/2020/01/01/gmi_20200101024307.nc',\n",
       "     'spr/gmi/testing/xl/on_swath/2020/01/01/gmi_20200101024428.nc'],\n",
       "    'ancillary': ['spr/gmi/testing/xs/on_swath/2020/01/01/ancillary_20200101010539.nc',\n",
       "     'spr/gmi/testing/xs/on_swath/2020/01/01/ancillary_20200101010852.nc',\n",
       "     'spr/gmi/testing/xs/on_swath/2020/01/01/ancillary_20200101023930.nc',\n",
       "     'spr/gmi/testing/xs/on_swath/2020/01/01/ancillary_20200101024428.nc',\n",
       "     'spr/gmi/testing/s/on_swath/2020/01/01/ancillary_20200101010539.nc',\n",
       "     'spr/gmi/testing/s/on_swath/2020/01/01/ancillary_20200101010852.nc',\n",
       "     'spr/gmi/testing/s/on_swath/2020/01/01/ancillary_20200101011037.nc',\n",
       "     'spr/gmi/testing/s/on_swath/2020/01/01/ancillary_20200101023930.nc',\n",
       "     'spr/gmi/testing/s/on_swath/2020/01/01/ancillary_20200101024307.nc',\n",
       "     'spr/gmi/testing/m/on_swath/2020/01/01/ancillary_20200101010539.nc',\n",
       "     'spr/gmi/testing/m/on_swath/2020/01/01/ancillary_20200101023930.nc',\n",
       "     'spr/gmi/testing/m/on_swath/2020/01/01/ancillary_20200101024307.nc',\n",
       "     'spr/gmi/testing/m/on_swath/2020/01/01/ancillary_20200101024428.nc',\n",
       "     'spr/gmi/testing/l/on_swath/2020/01/01/ancillary_20200101010539.nc',\n",
       "     'spr/gmi/testing/l/on_swath/2020/01/01/ancillary_20200101010852.nc',\n",
       "     'spr/gmi/testing/l/on_swath/2020/01/01/ancillary_20200101011037.nc',\n",
       "     'spr/gmi/testing/l/on_swath/2020/01/01/ancillary_20200101023930.nc',\n",
       "     'spr/gmi/testing/xl/on_swath/2020/01/01/ancillary_20200101010852.nc',\n",
       "     'spr/gmi/testing/xl/on_swath/2020/01/01/ancillary_20200101011037.nc',\n",
       "     'spr/gmi/testing/xl/on_swath/2020/01/01/ancillary_20200101024307.nc',\n",
       "     'spr/gmi/testing/xl/on_swath/2020/01/01/ancillary_20200101024428.nc'],\n",
       "    'target': ['spr/gmi/testing/xs/on_swath/2020/01/01/target_20200101010539.nc',\n",
       "     'spr/gmi/testing/xs/on_swath/2020/01/01/target_20200101010852.nc',\n",
       "     'spr/gmi/testing/xs/on_swath/2020/01/01/target_20200101023930.nc',\n",
       "     'spr/gmi/testing/xs/on_swath/2020/01/01/target_20200101024428.nc',\n",
       "     'spr/gmi/testing/s/on_swath/2020/01/01/target_20200101010539.nc',\n",
       "     'spr/gmi/testing/s/on_swath/2020/01/01/target_20200101010852.nc',\n",
       "     'spr/gmi/testing/s/on_swath/2020/01/01/target_20200101011037.nc',\n",
       "     'spr/gmi/testing/s/on_swath/2020/01/01/target_20200101023930.nc',\n",
       "     'spr/gmi/testing/s/on_swath/2020/01/01/target_20200101024307.nc',\n",
       "     'spr/gmi/testing/m/on_swath/2020/01/01/target_20200101010539.nc',\n",
       "     'spr/gmi/testing/m/on_swath/2020/01/01/target_20200101023930.nc',\n",
       "     'spr/gmi/testing/m/on_swath/2020/01/01/target_20200101024307.nc',\n",
       "     'spr/gmi/testing/m/on_swath/2020/01/01/target_20200101024428.nc',\n",
       "     'spr/gmi/testing/l/on_swath/2020/01/01/target_20200101010539.nc',\n",
       "     'spr/gmi/testing/l/on_swath/2020/01/01/target_20200101010852.nc',\n",
       "     'spr/gmi/testing/l/on_swath/2020/01/01/target_20200101011037.nc',\n",
       "     'spr/gmi/testing/l/on_swath/2020/01/01/target_20200101023930.nc',\n",
       "     'spr/gmi/testing/xl/on_swath/2020/01/01/target_20200101010852.nc',\n",
       "     'spr/gmi/testing/xl/on_swath/2020/01/01/target_20200101011037.nc',\n",
       "     'spr/gmi/testing/xl/on_swath/2020/01/01/target_20200101024307.nc',\n",
       "     'spr/gmi/testing/xl/on_swath/2020/01/01/target_20200101024428.nc']},\n",
       "   's': {},\n",
       "   'm': {},\n",
       "   'l': {},\n",
       "   'xl': {}},\n",
       "  'evaluation': {'conus': {'gmi': ['spr/gmi/evaluation/conus/on_swath/2022/01/01/gmi_20220101071120.nc',\n",
       "     'spr/gmi/evaluation/conus/on_swath/2022/01/01/gmi_20220101103214.nc',\n",
       "     'spr/gmi/evaluation/conus/on_swath/2022/01/01/gmi_20220101120620.nc'],\n",
       "    'ancillary': ['spr/gmi/evaluation/conus/on_swath/2022/01/01/ancillary_20220101071120.nc',\n",
       "     'spr/gmi/evaluation/conus/on_swath/2022/01/01/ancillary_20220101103214.nc',\n",
       "     'spr/gmi/evaluation/conus/on_swath/2022/01/01/ancillary_20220101120620.nc'],\n",
       "    'target': ['spr/gmi/evaluation/conus/on_swath/2022/01/01/target_20220101071120.nc',\n",
       "     'spr/gmi/evaluation/conus/on_swath/2022/01/01/target_20220101103214.nc',\n",
       "     'spr/gmi/evaluation/conus/on_swath/2022/01/01/target_20220101120620.nc']},\n",
       "   'korea': {'gmi': []},\n",
       "   'austria': {'gmi': []}}}}"
      ]
     },
     "execution_count": 142,
     "metadata": {},
     "output_type": "execute_result"
    }
   ],
   "source": [
    "files"
   ]
  },
  {
   "cell_type": "code",
   "execution_count": 145,
   "id": "2fa91d8f-572b-4806-9d46-5f66d655b5e9",
   "metadata": {},
   "outputs": [
    {
     "data": {
      "text/plain": [
       "PosixPath('/home/simon/data/ipwgml_test/spr')"
      ]
     },
     "execution_count": 145,
     "metadata": {},
     "output_type": "execute_result"
    }
   ],
   "source": [
    "target_folder"
   ]
  },
  {
   "cell_type": "code",
   "execution_count": 149,
   "id": "e453a316-29c0-423e-bccc-0c1fcc97e1da",
   "metadata": {},
   "outputs": [],
   "source": [
    "import json\n",
    "with open(target_folder.parent / \"files.json\", \"w\") as output:\n",
    "    output.write(json.dumps(files, indent=2))"
   ]
  },
  {
   "cell_type": "code",
   "execution_count": null,
   "id": "69284d74-6c20-4dce-836f-55c06efe9dd5",
   "metadata": {},
   "outputs": [],
   "source": [
    "json.lo"
   ]
  },
  {
   "cell_type": "code",
   "execution_count": 147,
   "id": "e27efad4-0aec-4c77-9ccc-2cf80543218f",
   "metadata": {},
   "outputs": [
    {
     "data": {
      "text/plain": [
       "PosixPath('/home/simon/data/ipwgml_test/spr')"
      ]
     },
     "execution_count": 147,
     "metadata": {},
     "output_type": "execute_result"
    }
   ],
   "source": [
    "target_folder \n"
   ]
  },
  {
   "cell_type": "code",
   "execution_count": null,
   "id": "d59e8a43-5053-4dda-9fa6-2f77099e296e",
   "metadata": {},
   "outputs": [],
   "source": []
  }
 ],
 "metadata": {
  "kernelspec": {
   "display_name": "Python 3 (ipykernel)",
   "language": "python",
   "name": "python3"
  },
  "language_info": {
   "codemirror_mode": {
    "name": "ipython",
    "version": 3
   },
   "file_extension": ".py",
   "mimetype": "text/x-python",
   "name": "python",
   "nbconvert_exporter": "python",
   "pygments_lexer": "ipython3",
   "version": "3.10.14"
  }
 },
 "nbformat": 4,
 "nbformat_minor": 5
}
